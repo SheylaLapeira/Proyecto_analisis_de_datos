{
 "cells": [
  {
   "cell_type": "markdown",
   "id": "80a9625c-a24b-4b81-951f-079300065d63",
   "metadata": {},
   "source": [
    "# Universidad Nacional Abierta y a Distancia-UNAD\n",
    "## ANALISIS DE DATOS\n",
    "### Estudiante: SHEILA MARCELA LAPEIRA LOPEZ\n",
    "#### Proyecto Análisis de Datos - Predicción con Regresión Logística: \n",
    "#### Quién de los pasajeros del Titanic sobrevivió al naufragio.\n",
    "\n",
    "### Pasos de la Actividad:\n",
    "1. Realizar un análisis exploratorio de los datos para identificar relaciones entre variables, valores atípicos, tendencias, etc.\n",
    "2. Preprocesar los datos limpiándolos, tratando valores faltantes y transformándolos según sea necesario.\n",
    "3. Seleccionar las características más relevantes para entrenar el modelo utilizando selección de características.\n",
    "4. Dividir el dataset en Train y Test para evaluar correctamente el modelo.\n",
    "5. Entrenar el modelo configurando los diferentes hiperparámetros.\n",
    "6. Evaluar el desempeño del modelo en el conjunto de Test con métricas como precisión, recall, F1-score, etc.\n",
    "7. Realizar las diferentes gráficas que permitan visualizar los resultados del modelo.\n",
    "8. Interpretar, analizar y documentar los resultados obtenidos."
   ]
  },
  {
   "cell_type": "markdown",
   "id": "3db9a65c-30ba-45ff-9a1d-6b48a1e67d5c",
   "metadata": {},
   "source": [
    "## Configuración de la base de datos e importaciones de librerías necesarias"
   ]
  },
  {
   "cell_type": "code",
   "execution_count": 520,
   "id": "6299283c-a2ee-4c66-bbe6-835717be63bc",
   "metadata": {},
   "outputs": [],
   "source": [
    "#Carga de librerías y configuración de la tabla de los datos \n",
    "\n",
    "# Cargar las librerías necesarias para la ejecución\n",
    "import pandas as data_handler  # Manejo y análisis de estructuras de datos\n",
    "import numpy as numerical_tools  # Cálculo numérico y análisis de datos\n",
    "import seaborn as stats_graphs  # Creación de gráficos estadísticos\n",
    "import matplotlib.pyplot as plotter  # Creación de gráficos en dos dimensiones\n",
    "\n",
    "# Librerías para implementar modelos de ciencia de datos\n",
    "from sklearn import metrics as sk_metrics  # Métricas para evaluación de modelos\n",
    "from sklearn.model_selection import train_test_split as tts  # División de datos para entrenamiento y prueba\n",
    "from sklearn.linear_model import LogisticRegression as LogReg  # Modelo de regresión logística\n",
    "from sklearn.metrics import classification_report as clf_report  # Reporte de clasificación\n",
    "from sklearn.metrics import confusion_matrix as conf_matrix  # Matriz de confusión\n",
    "\n",
    "# Carga y lecturas de los datos del archivo CSV con python lIBRERIA PANDAS\n",
    "Tabla=data_handler.read_csv('./Titanic-Dataset.csv')\n",
    "# Traducir a español los nombres de las columnas para mayor comprensión\n",
    "Tabla.rename(\n",
    "    columns={\n",
    "                'PassengerId': 'ID Pasajero','Survived': 'Sobrevivió','Pclass': 'Clase','Name': 'Nombre','Sex': 'Sexo','Age': 'Edad',\n",
    "                'SibSp': 'Hermanos o Esposos','Parch': 'Padres o Hijos','Ticket': 'Número de Boleto','Fare': 'Tarifa','Cabin': 'Cabina',\n",
    "                'Embarked': 'Puerto de Embarque'\n",
    "            }, inplace=True)\n"
   ]
  },
  {
   "cell_type": "markdown",
   "id": "def1469e-99f1-4ea8-aeaa-393c408b40b1",
   "metadata": {},
   "source": [
    "## 1. Realizar un análisis exploratorio de los datos para identificar relaciones entre variables, valores atípicos, tendencias, etc."
   ]
  },
  {
   "cell_type": "markdown",
   "id": "903cf251-4a9e-4266-9bc9-5d0f67930d82",
   "metadata": {},
   "source": [
    "### 1.1 Revisión general del dataset:"
   ]
  },
  {
   "cell_type": "markdown",
   "id": "5096b675-eb0c-4bcd-b830-5a8d35c5f7d6",
   "metadata": {},
   "source": [
    "#### 1.1.1 Tabla.info(): Muestra un resumen de la estructura del DataFrame o tabla"
   ]
  },
  {
   "cell_type": "code",
   "execution_count": 522,
   "id": "a13500f2-d855-4f46-9a71-68fc12309636",
   "metadata": {},
   "outputs": [
    {
     "name": "stdout",
     "output_type": "stream",
     "text": [
      "<class 'pandas.core.frame.DataFrame'>\n",
      "RangeIndex: 891 entries, 0 to 890\n",
      "Data columns (total 12 columns):\n",
      " #   Column              Non-Null Count  Dtype  \n",
      "---  ------              --------------  -----  \n",
      " 0   ID Pasajero         891 non-null    int64  \n",
      " 1   Sobrevivió          891 non-null    int64  \n",
      " 2   Clase               891 non-null    int64  \n",
      " 3   Nombre              891 non-null    object \n",
      " 4   Sexo                891 non-null    object \n",
      " 5   Edad                714 non-null    float64\n",
      " 6   Hermanos o Esposos  891 non-null    int64  \n",
      " 7   Padres o Hijos      891 non-null    int64  \n",
      " 8   Número de Boleto    891 non-null    object \n",
      " 9   Tarifa              891 non-null    float64\n",
      " 10  Cabina              204 non-null    object \n",
      " 11  Puerto de Embarque  889 non-null    object \n",
      "dtypes: float64(2), int64(5), object(5)\n",
      "memory usage: 83.7+ KB\n"
     ]
    }
   ],
   "source": [
    "Tabla.info()"
   ]
  },
  {
   "cell_type": "markdown",
   "id": "63fffb46-d576-409d-b7ff-58d028d2a782",
   "metadata": {},
   "source": [
    "### 1.1.2 Tabla.describe(): Genera estadísticas descriptivas para las columnas numéricas del DataFrame o la tabla"
   ]
  },
  {
   "cell_type": "code",
   "execution_count": 524,
   "id": "dd12e014-c066-46da-8a09-ce466316e1d2",
   "metadata": {},
   "outputs": [
    {
     "data": {
      "text/html": [
       "<div>\n",
       "<style scoped>\n",
       "    .dataframe tbody tr th:only-of-type {\n",
       "        vertical-align: middle;\n",
       "    }\n",
       "\n",
       "    .dataframe tbody tr th {\n",
       "        vertical-align: top;\n",
       "    }\n",
       "\n",
       "    .dataframe thead th {\n",
       "        text-align: right;\n",
       "    }\n",
       "</style>\n",
       "<table border=\"1\" class=\"dataframe\">\n",
       "  <thead>\n",
       "    <tr style=\"text-align: right;\">\n",
       "      <th></th>\n",
       "      <th>ID Pasajero</th>\n",
       "      <th>Sobrevivió</th>\n",
       "      <th>Clase</th>\n",
       "      <th>Edad</th>\n",
       "      <th>Hermanos o Esposos</th>\n",
       "      <th>Padres o Hijos</th>\n",
       "      <th>Tarifa</th>\n",
       "    </tr>\n",
       "  </thead>\n",
       "  <tbody>\n",
       "    <tr>\n",
       "      <th>Conteo</th>\n",
       "      <td>891.00</td>\n",
       "      <td>891.00</td>\n",
       "      <td>891.00</td>\n",
       "      <td>714.00</td>\n",
       "      <td>891.00</td>\n",
       "      <td>891.00</td>\n",
       "      <td>891.00</td>\n",
       "    </tr>\n",
       "    <tr>\n",
       "      <th>Promedio</th>\n",
       "      <td>446.00</td>\n",
       "      <td>0.38</td>\n",
       "      <td>2.31</td>\n",
       "      <td>29.70</td>\n",
       "      <td>0.52</td>\n",
       "      <td>0.38</td>\n",
       "      <td>32.20</td>\n",
       "    </tr>\n",
       "    <tr>\n",
       "      <th>Desviación Estándar</th>\n",
       "      <td>257.35</td>\n",
       "      <td>0.49</td>\n",
       "      <td>0.84</td>\n",
       "      <td>14.53</td>\n",
       "      <td>1.10</td>\n",
       "      <td>0.81</td>\n",
       "      <td>49.69</td>\n",
       "    </tr>\n",
       "    <tr>\n",
       "      <th>Mínimo</th>\n",
       "      <td>1.00</td>\n",
       "      <td>0.00</td>\n",
       "      <td>1.00</td>\n",
       "      <td>0.42</td>\n",
       "      <td>0.00</td>\n",
       "      <td>0.00</td>\n",
       "      <td>0.00</td>\n",
       "    </tr>\n",
       "    <tr>\n",
       "      <th>25%</th>\n",
       "      <td>223.50</td>\n",
       "      <td>0.00</td>\n",
       "      <td>2.00</td>\n",
       "      <td>20.12</td>\n",
       "      <td>0.00</td>\n",
       "      <td>0.00</td>\n",
       "      <td>7.91</td>\n",
       "    </tr>\n",
       "    <tr>\n",
       "      <th>Mediana 50%</th>\n",
       "      <td>446.00</td>\n",
       "      <td>0.00</td>\n",
       "      <td>3.00</td>\n",
       "      <td>28.00</td>\n",
       "      <td>0.00</td>\n",
       "      <td>0.00</td>\n",
       "      <td>14.45</td>\n",
       "    </tr>\n",
       "    <tr>\n",
       "      <th>75%</th>\n",
       "      <td>668.50</td>\n",
       "      <td>1.00</td>\n",
       "      <td>3.00</td>\n",
       "      <td>38.00</td>\n",
       "      <td>1.00</td>\n",
       "      <td>0.00</td>\n",
       "      <td>31.00</td>\n",
       "    </tr>\n",
       "    <tr>\n",
       "      <th>Máximo</th>\n",
       "      <td>891.00</td>\n",
       "      <td>1.00</td>\n",
       "      <td>3.00</td>\n",
       "      <td>80.00</td>\n",
       "      <td>8.00</td>\n",
       "      <td>6.00</td>\n",
       "      <td>512.33</td>\n",
       "    </tr>\n",
       "  </tbody>\n",
       "</table>\n",
       "</div>"
      ],
      "text/plain": [
       "                     ID Pasajero  Sobrevivió   Clase    Edad  \\\n",
       "Conteo                    891.00      891.00  891.00  714.00   \n",
       "Promedio                  446.00        0.38    2.31   29.70   \n",
       "Desviación Estándar       257.35        0.49    0.84   14.53   \n",
       "Mínimo                      1.00        0.00    1.00    0.42   \n",
       "25%                       223.50        0.00    2.00   20.12   \n",
       "Mediana 50%               446.00        0.00    3.00   28.00   \n",
       "75%                       668.50        1.00    3.00   38.00   \n",
       "Máximo                    891.00        1.00    3.00   80.00   \n",
       "\n",
       "                     Hermanos o Esposos  Padres o Hijos  Tarifa  \n",
       "Conteo                           891.00          891.00  891.00  \n",
       "Promedio                           0.52            0.38   32.20  \n",
       "Desviación Estándar                1.10            0.81   49.69  \n",
       "Mínimo                             0.00            0.00    0.00  \n",
       "25%                                0.00            0.00    7.91  \n",
       "Mediana 50%                        0.00            0.00   14.45  \n",
       "75%                                1.00            0.00   31.00  \n",
       "Máximo                             8.00            6.00  512.33  "
      ]
     },
     "execution_count": 524,
     "metadata": {},
     "output_type": "execute_result"
    }
   ],
   "source": [
    "#Descripción de los datos\n",
    "descripcion = Tabla.describe()\n",
    "# Renombrar las estadísticas\n",
    "descripcion = descripcion.rename(index={\n",
    "    'count': 'Conteo',\n",
    "    'mean': 'Promedio',\n",
    "    'std': 'Desviación Estándar',\n",
    "    'min': 'Mínimo',\n",
    "    '25%': '25%',\n",
    "    '50%': 'Mediana 50%',\n",
    "    '75%': '75%',\n",
    "    'max': 'Máximo'\n",
    "})\n",
    "descripcion = descripcion.round(2)\n",
    "descripcion"
   ]
  },
  {
   "cell_type": "markdown",
   "id": "8d41f563-12a5-4d18-aae7-f5f0eabf25cf",
   "metadata": {},
   "source": [
    "### 1.1.3 Tabla.head(): Muestra las primeras 5 filas del DataFrame (por defecto), aunque puedes especificar más filas, como Tabla.head(10)"
   ]
  },
  {
   "cell_type": "code",
   "execution_count": 863,
   "id": "ce466e68-9218-4909-b036-ba61feeda610",
   "metadata": {},
   "outputs": [
    {
     "data": {
      "text/html": [
       "<div>\n",
       "<style scoped>\n",
       "    .dataframe tbody tr th:only-of-type {\n",
       "        vertical-align: middle;\n",
       "    }\n",
       "\n",
       "    .dataframe tbody tr th {\n",
       "        vertical-align: top;\n",
       "    }\n",
       "\n",
       "    .dataframe thead th {\n",
       "        text-align: right;\n",
       "    }\n",
       "</style>\n",
       "<table border=\"1\" class=\"dataframe\">\n",
       "  <thead>\n",
       "    <tr style=\"text-align: right;\">\n",
       "      <th></th>\n",
       "      <th>ID Pasajero</th>\n",
       "      <th>Sobrevivió</th>\n",
       "      <th>Edad</th>\n",
       "      <th>Hermanos o Esposos</th>\n",
       "      <th>Padres o Hijos</th>\n",
       "      <th>Sexo_male</th>\n",
       "      <th>Clase_3</th>\n",
       "    </tr>\n",
       "  </thead>\n",
       "  <tbody>\n",
       "    <tr>\n",
       "      <th>2</th>\n",
       "      <td>3</td>\n",
       "      <td>1</td>\n",
       "      <td>26.000000</td>\n",
       "      <td>0.523008</td>\n",
       "      <td>0.381594</td>\n",
       "      <td>False</td>\n",
       "      <td>True</td>\n",
       "    </tr>\n",
       "    <tr>\n",
       "      <th>4</th>\n",
       "      <td>5</td>\n",
       "      <td>0</td>\n",
       "      <td>35.000000</td>\n",
       "      <td>0.523008</td>\n",
       "      <td>0.381594</td>\n",
       "      <td>True</td>\n",
       "      <td>True</td>\n",
       "    </tr>\n",
       "    <tr>\n",
       "      <th>5</th>\n",
       "      <td>6</td>\n",
       "      <td>0</td>\n",
       "      <td>29.699118</td>\n",
       "      <td>0.523008</td>\n",
       "      <td>0.381594</td>\n",
       "      <td>True</td>\n",
       "      <td>True</td>\n",
       "    </tr>\n",
       "    <tr>\n",
       "      <th>12</th>\n",
       "      <td>13</td>\n",
       "      <td>0</td>\n",
       "      <td>20.000000</td>\n",
       "      <td>0.523008</td>\n",
       "      <td>0.381594</td>\n",
       "      <td>True</td>\n",
       "      <td>True</td>\n",
       "    </tr>\n",
       "    <tr>\n",
       "      <th>14</th>\n",
       "      <td>15</td>\n",
       "      <td>0</td>\n",
       "      <td>14.000000</td>\n",
       "      <td>0.523008</td>\n",
       "      <td>0.381594</td>\n",
       "      <td>False</td>\n",
       "      <td>True</td>\n",
       "    </tr>\n",
       "    <tr>\n",
       "      <th>19</th>\n",
       "      <td>20</td>\n",
       "      <td>1</td>\n",
       "      <td>29.699118</td>\n",
       "      <td>0.523008</td>\n",
       "      <td>0.381594</td>\n",
       "      <td>False</td>\n",
       "      <td>True</td>\n",
       "    </tr>\n",
       "    <tr>\n",
       "      <th>22</th>\n",
       "      <td>23</td>\n",
       "      <td>1</td>\n",
       "      <td>15.000000</td>\n",
       "      <td>0.523008</td>\n",
       "      <td>0.381594</td>\n",
       "      <td>False</td>\n",
       "      <td>True</td>\n",
       "    </tr>\n",
       "    <tr>\n",
       "      <th>26</th>\n",
       "      <td>27</td>\n",
       "      <td>0</td>\n",
       "      <td>29.699118</td>\n",
       "      <td>0.523008</td>\n",
       "      <td>0.381594</td>\n",
       "      <td>True</td>\n",
       "      <td>True</td>\n",
       "    </tr>\n",
       "    <tr>\n",
       "      <th>28</th>\n",
       "      <td>29</td>\n",
       "      <td>1</td>\n",
       "      <td>29.699118</td>\n",
       "      <td>0.523008</td>\n",
       "      <td>0.381594</td>\n",
       "      <td>False</td>\n",
       "      <td>True</td>\n",
       "    </tr>\n",
       "    <tr>\n",
       "      <th>29</th>\n",
       "      <td>30</td>\n",
       "      <td>0</td>\n",
       "      <td>29.699118</td>\n",
       "      <td>0.523008</td>\n",
       "      <td>0.381594</td>\n",
       "      <td>True</td>\n",
       "      <td>True</td>\n",
       "    </tr>\n",
       "    <tr>\n",
       "      <th>32</th>\n",
       "      <td>33</td>\n",
       "      <td>1</td>\n",
       "      <td>29.699118</td>\n",
       "      <td>0.523008</td>\n",
       "      <td>0.381594</td>\n",
       "      <td>False</td>\n",
       "      <td>True</td>\n",
       "    </tr>\n",
       "    <tr>\n",
       "      <th>36</th>\n",
       "      <td>37</td>\n",
       "      <td>1</td>\n",
       "      <td>29.699118</td>\n",
       "      <td>0.523008</td>\n",
       "      <td>0.381594</td>\n",
       "      <td>True</td>\n",
       "      <td>True</td>\n",
       "    </tr>\n",
       "    <tr>\n",
       "      <th>37</th>\n",
       "      <td>38</td>\n",
       "      <td>0</td>\n",
       "      <td>21.000000</td>\n",
       "      <td>0.523008</td>\n",
       "      <td>0.381594</td>\n",
       "      <td>True</td>\n",
       "      <td>True</td>\n",
       "    </tr>\n",
       "    <tr>\n",
       "      <th>42</th>\n",
       "      <td>43</td>\n",
       "      <td>0</td>\n",
       "      <td>29.699118</td>\n",
       "      <td>0.523008</td>\n",
       "      <td>0.381594</td>\n",
       "      <td>True</td>\n",
       "      <td>True</td>\n",
       "    </tr>\n",
       "    <tr>\n",
       "      <th>44</th>\n",
       "      <td>45</td>\n",
       "      <td>1</td>\n",
       "      <td>19.000000</td>\n",
       "      <td>0.523008</td>\n",
       "      <td>0.381594</td>\n",
       "      <td>False</td>\n",
       "      <td>True</td>\n",
       "    </tr>\n",
       "    <tr>\n",
       "      <th>45</th>\n",
       "      <td>46</td>\n",
       "      <td>0</td>\n",
       "      <td>29.699118</td>\n",
       "      <td>0.523008</td>\n",
       "      <td>0.381594</td>\n",
       "      <td>True</td>\n",
       "      <td>True</td>\n",
       "    </tr>\n",
       "    <tr>\n",
       "      <th>47</th>\n",
       "      <td>48</td>\n",
       "      <td>1</td>\n",
       "      <td>29.699118</td>\n",
       "      <td>0.523008</td>\n",
       "      <td>0.381594</td>\n",
       "      <td>False</td>\n",
       "      <td>True</td>\n",
       "    </tr>\n",
       "    <tr>\n",
       "      <th>51</th>\n",
       "      <td>52</td>\n",
       "      <td>0</td>\n",
       "      <td>21.000000</td>\n",
       "      <td>0.523008</td>\n",
       "      <td>0.381594</td>\n",
       "      <td>True</td>\n",
       "      <td>True</td>\n",
       "    </tr>\n",
       "    <tr>\n",
       "      <th>56</th>\n",
       "      <td>57</td>\n",
       "      <td>1</td>\n",
       "      <td>21.000000</td>\n",
       "      <td>0.523008</td>\n",
       "      <td>0.381594</td>\n",
       "      <td>False</td>\n",
       "      <td>False</td>\n",
       "    </tr>\n",
       "    <tr>\n",
       "      <th>57</th>\n",
       "      <td>58</td>\n",
       "      <td>0</td>\n",
       "      <td>28.500000</td>\n",
       "      <td>0.523008</td>\n",
       "      <td>0.381594</td>\n",
       "      <td>True</td>\n",
       "      <td>True</td>\n",
       "    </tr>\n",
       "    <tr>\n",
       "      <th>60</th>\n",
       "      <td>61</td>\n",
       "      <td>0</td>\n",
       "      <td>22.000000</td>\n",
       "      <td>0.523008</td>\n",
       "      <td>0.381594</td>\n",
       "      <td>True</td>\n",
       "      <td>True</td>\n",
       "    </tr>\n",
       "    <tr>\n",
       "      <th>66</th>\n",
       "      <td>67</td>\n",
       "      <td>1</td>\n",
       "      <td>29.000000</td>\n",
       "      <td>0.523008</td>\n",
       "      <td>0.381594</td>\n",
       "      <td>False</td>\n",
       "      <td>False</td>\n",
       "    </tr>\n",
       "    <tr>\n",
       "      <th>67</th>\n",
       "      <td>68</td>\n",
       "      <td>0</td>\n",
       "      <td>19.000000</td>\n",
       "      <td>0.523008</td>\n",
       "      <td>0.381594</td>\n",
       "      <td>True</td>\n",
       "      <td>True</td>\n",
       "    </tr>\n",
       "    <tr>\n",
       "      <th>70</th>\n",
       "      <td>71</td>\n",
       "      <td>0</td>\n",
       "      <td>32.000000</td>\n",
       "      <td>0.523008</td>\n",
       "      <td>0.381594</td>\n",
       "      <td>True</td>\n",
       "      <td>False</td>\n",
       "    </tr>\n",
       "    <tr>\n",
       "      <th>75</th>\n",
       "      <td>76</td>\n",
       "      <td>0</td>\n",
       "      <td>25.000000</td>\n",
       "      <td>0.523008</td>\n",
       "      <td>0.381594</td>\n",
       "      <td>True</td>\n",
       "      <td>True</td>\n",
       "    </tr>\n",
       "    <tr>\n",
       "      <th>76</th>\n",
       "      <td>77</td>\n",
       "      <td>0</td>\n",
       "      <td>29.699118</td>\n",
       "      <td>0.523008</td>\n",
       "      <td>0.381594</td>\n",
       "      <td>True</td>\n",
       "      <td>True</td>\n",
       "    </tr>\n",
       "    <tr>\n",
       "      <th>77</th>\n",
       "      <td>78</td>\n",
       "      <td>0</td>\n",
       "      <td>29.699118</td>\n",
       "      <td>0.523008</td>\n",
       "      <td>0.381594</td>\n",
       "      <td>True</td>\n",
       "      <td>True</td>\n",
       "    </tr>\n",
       "    <tr>\n",
       "      <th>80</th>\n",
       "      <td>81</td>\n",
       "      <td>0</td>\n",
       "      <td>22.000000</td>\n",
       "      <td>0.523008</td>\n",
       "      <td>0.381594</td>\n",
       "      <td>True</td>\n",
       "      <td>True</td>\n",
       "    </tr>\n",
       "    <tr>\n",
       "      <th>81</th>\n",
       "      <td>82</td>\n",
       "      <td>1</td>\n",
       "      <td>29.000000</td>\n",
       "      <td>0.523008</td>\n",
       "      <td>0.381594</td>\n",
       "      <td>True</td>\n",
       "      <td>True</td>\n",
       "    </tr>\n",
       "    <tr>\n",
       "      <th>82</th>\n",
       "      <td>83</td>\n",
       "      <td>1</td>\n",
       "      <td>29.699118</td>\n",
       "      <td>0.523008</td>\n",
       "      <td>0.381594</td>\n",
       "      <td>False</td>\n",
       "      <td>True</td>\n",
       "    </tr>\n",
       "    <tr>\n",
       "      <th>84</th>\n",
       "      <td>85</td>\n",
       "      <td>1</td>\n",
       "      <td>17.000000</td>\n",
       "      <td>0.523008</td>\n",
       "      <td>0.381594</td>\n",
       "      <td>False</td>\n",
       "      <td>False</td>\n",
       "    </tr>\n",
       "    <tr>\n",
       "      <th>87</th>\n",
       "      <td>88</td>\n",
       "      <td>0</td>\n",
       "      <td>29.699118</td>\n",
       "      <td>0.523008</td>\n",
       "      <td>0.381594</td>\n",
       "      <td>True</td>\n",
       "      <td>True</td>\n",
       "    </tr>\n",
       "    <tr>\n",
       "      <th>89</th>\n",
       "      <td>90</td>\n",
       "      <td>0</td>\n",
       "      <td>24.000000</td>\n",
       "      <td>0.523008</td>\n",
       "      <td>0.381594</td>\n",
       "      <td>True</td>\n",
       "      <td>True</td>\n",
       "    </tr>\n",
       "    <tr>\n",
       "      <th>90</th>\n",
       "      <td>91</td>\n",
       "      <td>0</td>\n",
       "      <td>29.000000</td>\n",
       "      <td>0.523008</td>\n",
       "      <td>0.381594</td>\n",
       "      <td>True</td>\n",
       "      <td>True</td>\n",
       "    </tr>\n",
       "    <tr>\n",
       "      <th>91</th>\n",
       "      <td>92</td>\n",
       "      <td>0</td>\n",
       "      <td>20.000000</td>\n",
       "      <td>0.523008</td>\n",
       "      <td>0.381594</td>\n",
       "      <td>True</td>\n",
       "      <td>True</td>\n",
       "    </tr>\n",
       "    <tr>\n",
       "      <th>95</th>\n",
       "      <td>96</td>\n",
       "      <td>0</td>\n",
       "      <td>29.699118</td>\n",
       "      <td>0.523008</td>\n",
       "      <td>0.381594</td>\n",
       "      <td>True</td>\n",
       "      <td>True</td>\n",
       "    </tr>\n",
       "    <tr>\n",
       "      <th>100</th>\n",
       "      <td>101</td>\n",
       "      <td>0</td>\n",
       "      <td>28.000000</td>\n",
       "      <td>0.523008</td>\n",
       "      <td>0.381594</td>\n",
       "      <td>False</td>\n",
       "      <td>True</td>\n",
       "    </tr>\n",
       "    <tr>\n",
       "      <th>101</th>\n",
       "      <td>102</td>\n",
       "      <td>0</td>\n",
       "      <td>29.699118</td>\n",
       "      <td>0.523008</td>\n",
       "      <td>0.381594</td>\n",
       "      <td>True</td>\n",
       "      <td>True</td>\n",
       "    </tr>\n",
       "    <tr>\n",
       "      <th>103</th>\n",
       "      <td>104</td>\n",
       "      <td>0</td>\n",
       "      <td>33.000000</td>\n",
       "      <td>0.523008</td>\n",
       "      <td>0.381594</td>\n",
       "      <td>True</td>\n",
       "      <td>True</td>\n",
       "    </tr>\n",
       "    <tr>\n",
       "      <th>105</th>\n",
       "      <td>106</td>\n",
       "      <td>0</td>\n",
       "      <td>28.000000</td>\n",
       "      <td>0.523008</td>\n",
       "      <td>0.381594</td>\n",
       "      <td>True</td>\n",
       "      <td>True</td>\n",
       "    </tr>\n",
       "    <tr>\n",
       "      <th>106</th>\n",
       "      <td>107</td>\n",
       "      <td>1</td>\n",
       "      <td>21.000000</td>\n",
       "      <td>0.523008</td>\n",
       "      <td>0.381594</td>\n",
       "      <td>False</td>\n",
       "      <td>True</td>\n",
       "    </tr>\n",
       "    <tr>\n",
       "      <th>107</th>\n",
       "      <td>108</td>\n",
       "      <td>1</td>\n",
       "      <td>29.699118</td>\n",
       "      <td>0.523008</td>\n",
       "      <td>0.381594</td>\n",
       "      <td>True</td>\n",
       "      <td>True</td>\n",
       "    </tr>\n",
       "    <tr>\n",
       "      <th>108</th>\n",
       "      <td>109</td>\n",
       "      <td>0</td>\n",
       "      <td>38.000000</td>\n",
       "      <td>0.523008</td>\n",
       "      <td>0.381594</td>\n",
       "      <td>True</td>\n",
       "      <td>True</td>\n",
       "    </tr>\n",
       "    <tr>\n",
       "      <th>112</th>\n",
       "      <td>113</td>\n",
       "      <td>0</td>\n",
       "      <td>22.000000</td>\n",
       "      <td>0.523008</td>\n",
       "      <td>0.381594</td>\n",
       "      <td>True</td>\n",
       "      <td>True</td>\n",
       "    </tr>\n",
       "    <tr>\n",
       "      <th>115</th>\n",
       "      <td>116</td>\n",
       "      <td>0</td>\n",
       "      <td>21.000000</td>\n",
       "      <td>0.523008</td>\n",
       "      <td>0.381594</td>\n",
       "      <td>True</td>\n",
       "      <td>True</td>\n",
       "    </tr>\n",
       "    <tr>\n",
       "      <th>121</th>\n",
       "      <td>122</td>\n",
       "      <td>0</td>\n",
       "      <td>29.699118</td>\n",
       "      <td>0.523008</td>\n",
       "      <td>0.381594</td>\n",
       "      <td>True</td>\n",
       "      <td>True</td>\n",
       "    </tr>\n",
       "    <tr>\n",
       "      <th>126</th>\n",
       "      <td>127</td>\n",
       "      <td>0</td>\n",
       "      <td>29.699118</td>\n",
       "      <td>0.523008</td>\n",
       "      <td>0.381594</td>\n",
       "      <td>True</td>\n",
       "      <td>True</td>\n",
       "    </tr>\n",
       "    <tr>\n",
       "      <th>127</th>\n",
       "      <td>128</td>\n",
       "      <td>1</td>\n",
       "      <td>24.000000</td>\n",
       "      <td>0.523008</td>\n",
       "      <td>0.381594</td>\n",
       "      <td>True</td>\n",
       "      <td>True</td>\n",
       "    </tr>\n",
       "    <tr>\n",
       "      <th>130</th>\n",
       "      <td>131</td>\n",
       "      <td>0</td>\n",
       "      <td>33.000000</td>\n",
       "      <td>0.523008</td>\n",
       "      <td>0.381594</td>\n",
       "      <td>True</td>\n",
       "      <td>True</td>\n",
       "    </tr>\n",
       "    <tr>\n",
       "      <th>131</th>\n",
       "      <td>132</td>\n",
       "      <td>0</td>\n",
       "      <td>20.000000</td>\n",
       "      <td>0.523008</td>\n",
       "      <td>0.381594</td>\n",
       "      <td>True</td>\n",
       "      <td>True</td>\n",
       "    </tr>\n",
       "    <tr>\n",
       "      <th>138</th>\n",
       "      <td>139</td>\n",
       "      <td>0</td>\n",
       "      <td>16.000000</td>\n",
       "      <td>0.523008</td>\n",
       "      <td>0.381594</td>\n",
       "      <td>True</td>\n",
       "      <td>True</td>\n",
       "    </tr>\n",
       "    <tr>\n",
       "      <th>141</th>\n",
       "      <td>142</td>\n",
       "      <td>1</td>\n",
       "      <td>22.000000</td>\n",
       "      <td>0.523008</td>\n",
       "      <td>0.381594</td>\n",
       "      <td>False</td>\n",
       "      <td>True</td>\n",
       "    </tr>\n",
       "    <tr>\n",
       "      <th>143</th>\n",
       "      <td>144</td>\n",
       "      <td>0</td>\n",
       "      <td>19.000000</td>\n",
       "      <td>0.523008</td>\n",
       "      <td>0.381594</td>\n",
       "      <td>True</td>\n",
       "      <td>True</td>\n",
       "    </tr>\n",
       "    <tr>\n",
       "      <th>144</th>\n",
       "      <td>145</td>\n",
       "      <td>0</td>\n",
       "      <td>18.000000</td>\n",
       "      <td>0.523008</td>\n",
       "      <td>0.381594</td>\n",
       "      <td>True</td>\n",
       "      <td>False</td>\n",
       "    </tr>\n",
       "    <tr>\n",
       "      <th>146</th>\n",
       "      <td>147</td>\n",
       "      <td>1</td>\n",
       "      <td>27.000000</td>\n",
       "      <td>0.523008</td>\n",
       "      <td>0.381594</td>\n",
       "      <td>True</td>\n",
       "      <td>True</td>\n",
       "    </tr>\n",
       "    <tr>\n",
       "      <th>154</th>\n",
       "      <td>155</td>\n",
       "      <td>0</td>\n",
       "      <td>29.699118</td>\n",
       "      <td>0.523008</td>\n",
       "      <td>0.381594</td>\n",
       "      <td>True</td>\n",
       "      <td>True</td>\n",
       "    </tr>\n",
       "    <tr>\n",
       "      <th>156</th>\n",
       "      <td>157</td>\n",
       "      <td>1</td>\n",
       "      <td>16.000000</td>\n",
       "      <td>0.523008</td>\n",
       "      <td>0.381594</td>\n",
       "      <td>False</td>\n",
       "      <td>True</td>\n",
       "    </tr>\n",
       "    <tr>\n",
       "      <th>157</th>\n",
       "      <td>158</td>\n",
       "      <td>0</td>\n",
       "      <td>30.000000</td>\n",
       "      <td>0.523008</td>\n",
       "      <td>0.381594</td>\n",
       "      <td>True</td>\n",
       "      <td>True</td>\n",
       "    </tr>\n",
       "    <tr>\n",
       "      <th>158</th>\n",
       "      <td>159</td>\n",
       "      <td>0</td>\n",
       "      <td>29.699118</td>\n",
       "      <td>0.523008</td>\n",
       "      <td>0.381594</td>\n",
       "      <td>True</td>\n",
       "      <td>True</td>\n",
       "    </tr>\n",
       "    <tr>\n",
       "      <th>162</th>\n",
       "      <td>163</td>\n",
       "      <td>0</td>\n",
       "      <td>26.000000</td>\n",
       "      <td>0.523008</td>\n",
       "      <td>0.381594</td>\n",
       "      <td>True</td>\n",
       "      <td>True</td>\n",
       "    </tr>\n",
       "  </tbody>\n",
       "</table>\n",
       "</div>"
      ],
      "text/plain": [
       "     ID Pasajero  Sobrevivió       Edad  Hermanos o Esposos  Padres o Hijos  \\\n",
       "2              3           1  26.000000            0.523008        0.381594   \n",
       "4              5           0  35.000000            0.523008        0.381594   \n",
       "5              6           0  29.699118            0.523008        0.381594   \n",
       "12            13           0  20.000000            0.523008        0.381594   \n",
       "14            15           0  14.000000            0.523008        0.381594   \n",
       "19            20           1  29.699118            0.523008        0.381594   \n",
       "22            23           1  15.000000            0.523008        0.381594   \n",
       "26            27           0  29.699118            0.523008        0.381594   \n",
       "28            29           1  29.699118            0.523008        0.381594   \n",
       "29            30           0  29.699118            0.523008        0.381594   \n",
       "32            33           1  29.699118            0.523008        0.381594   \n",
       "36            37           1  29.699118            0.523008        0.381594   \n",
       "37            38           0  21.000000            0.523008        0.381594   \n",
       "42            43           0  29.699118            0.523008        0.381594   \n",
       "44            45           1  19.000000            0.523008        0.381594   \n",
       "45            46           0  29.699118            0.523008        0.381594   \n",
       "47            48           1  29.699118            0.523008        0.381594   \n",
       "51            52           0  21.000000            0.523008        0.381594   \n",
       "56            57           1  21.000000            0.523008        0.381594   \n",
       "57            58           0  28.500000            0.523008        0.381594   \n",
       "60            61           0  22.000000            0.523008        0.381594   \n",
       "66            67           1  29.000000            0.523008        0.381594   \n",
       "67            68           0  19.000000            0.523008        0.381594   \n",
       "70            71           0  32.000000            0.523008        0.381594   \n",
       "75            76           0  25.000000            0.523008        0.381594   \n",
       "76            77           0  29.699118            0.523008        0.381594   \n",
       "77            78           0  29.699118            0.523008        0.381594   \n",
       "80            81           0  22.000000            0.523008        0.381594   \n",
       "81            82           1  29.000000            0.523008        0.381594   \n",
       "82            83           1  29.699118            0.523008        0.381594   \n",
       "84            85           1  17.000000            0.523008        0.381594   \n",
       "87            88           0  29.699118            0.523008        0.381594   \n",
       "89            90           0  24.000000            0.523008        0.381594   \n",
       "90            91           0  29.000000            0.523008        0.381594   \n",
       "91            92           0  20.000000            0.523008        0.381594   \n",
       "95            96           0  29.699118            0.523008        0.381594   \n",
       "100          101           0  28.000000            0.523008        0.381594   \n",
       "101          102           0  29.699118            0.523008        0.381594   \n",
       "103          104           0  33.000000            0.523008        0.381594   \n",
       "105          106           0  28.000000            0.523008        0.381594   \n",
       "106          107           1  21.000000            0.523008        0.381594   \n",
       "107          108           1  29.699118            0.523008        0.381594   \n",
       "108          109           0  38.000000            0.523008        0.381594   \n",
       "112          113           0  22.000000            0.523008        0.381594   \n",
       "115          116           0  21.000000            0.523008        0.381594   \n",
       "121          122           0  29.699118            0.523008        0.381594   \n",
       "126          127           0  29.699118            0.523008        0.381594   \n",
       "127          128           1  24.000000            0.523008        0.381594   \n",
       "130          131           0  33.000000            0.523008        0.381594   \n",
       "131          132           0  20.000000            0.523008        0.381594   \n",
       "138          139           0  16.000000            0.523008        0.381594   \n",
       "141          142           1  22.000000            0.523008        0.381594   \n",
       "143          144           0  19.000000            0.523008        0.381594   \n",
       "144          145           0  18.000000            0.523008        0.381594   \n",
       "146          147           1  27.000000            0.523008        0.381594   \n",
       "154          155           0  29.699118            0.523008        0.381594   \n",
       "156          157           1  16.000000            0.523008        0.381594   \n",
       "157          158           0  30.000000            0.523008        0.381594   \n",
       "158          159           0  29.699118            0.523008        0.381594   \n",
       "162          163           0  26.000000            0.523008        0.381594   \n",
       "\n",
       "     Sexo_male  Clase_3  \n",
       "2        False     True  \n",
       "4         True     True  \n",
       "5         True     True  \n",
       "12        True     True  \n",
       "14       False     True  \n",
       "19       False     True  \n",
       "22       False     True  \n",
       "26        True     True  \n",
       "28       False     True  \n",
       "29        True     True  \n",
       "32       False     True  \n",
       "36        True     True  \n",
       "37        True     True  \n",
       "42        True     True  \n",
       "44       False     True  \n",
       "45        True     True  \n",
       "47       False     True  \n",
       "51        True     True  \n",
       "56       False    False  \n",
       "57        True     True  \n",
       "60        True     True  \n",
       "66       False    False  \n",
       "67        True     True  \n",
       "70        True    False  \n",
       "75        True     True  \n",
       "76        True     True  \n",
       "77        True     True  \n",
       "80        True     True  \n",
       "81        True     True  \n",
       "82       False     True  \n",
       "84       False    False  \n",
       "87        True     True  \n",
       "89        True     True  \n",
       "90        True     True  \n",
       "91        True     True  \n",
       "95        True     True  \n",
       "100      False     True  \n",
       "101       True     True  \n",
       "103       True     True  \n",
       "105       True     True  \n",
       "106      False     True  \n",
       "107       True     True  \n",
       "108       True     True  \n",
       "112       True     True  \n",
       "115       True     True  \n",
       "121       True     True  \n",
       "126       True     True  \n",
       "127       True     True  \n",
       "130       True     True  \n",
       "131       True     True  \n",
       "138       True     True  \n",
       "141      False     True  \n",
       "143       True     True  \n",
       "144       True    False  \n",
       "146       True     True  \n",
       "154       True     True  \n",
       "156      False     True  \n",
       "157       True     True  \n",
       "158       True     True  \n",
       "162       True     True  "
      ]
     },
     "execution_count": 863,
     "metadata": {},
     "output_type": "execute_result"
    }
   ],
   "source": [
    "Tabla.head(60)"
   ]
  },
  {
   "cell_type": "markdown",
   "id": "10b67393-9fc1-4ef5-b7b9-1b4abfcf03bb",
   "metadata": {},
   "source": [
    "## 1.2 Identificar valores faltantes:"
   ]
  },
  {
   "cell_type": "code",
   "execution_count": 545,
   "id": "40695af0-6172-466b-9401-fb92ba343938",
   "metadata": {},
   "outputs": [
    {
     "name": "stdout",
     "output_type": "stream",
     "text": [
      "Cantidad de registros con Ceros o Faltante en Edad: 177\n",
      "Cantidad de registros con Ceros en Tarifa: 15\n",
      "Cantidad de registros con Ceros en Hermanos o Esposos: 608\n",
      "Cantidad de registros con Ceros en Padres o Hijos: 678\n",
      "---------------------------------------------------------------------\n",
      "Cantidad de Ceros o Faltante en Edad: 177\n",
      "Cantidad de ceros en Tarifa: 15\n",
      "Cantidad de ceros en Hermanos o Esposos: 608\n",
      "Cantidad de ceros en Padres o Hijos: 678\n"
     ]
    }
   ],
   "source": [
    "#Descripción: Edad del pasajero.\n",
    "\n",
    "## Primera forma\n",
    "\n",
    "#Análisis de faltantes: los valores faltantes pueden estar justificados (por ejemplo, si no se tenía información).\n",
    "print(f\"Cantidad de registros con Ceros o Faltante en Edad: {Tabla['Edad'].isna().sum()}\")\n",
    "\n",
    "#Descripción: Precio que pagó el pasajero por el boleto.\n",
    "#Análisis de faltantes: No debería haber valores faltantes, pero si los hay, podría ser un error de captura de datos.\n",
    "print(f\"Cantidad de registros con Ceros en Tarifa: {Tabla['Tarifa'].isin([0]).sum()}\")\n",
    "\n",
    "#Descripción: Número de hermanos o esposos a bordo del barco: \n",
    "#Análisis de faltantes: No debería haber valores faltantes.\n",
    "print(f\"Cantidad de registros con Ceros en Hermanos o Esposos: {Tabla['Hermanos o Esposos'].isin([0]).sum()}\")\n",
    "\n",
    "#Descripción: Número de padres o hijos a bordo.\n",
    "#Análisis de faltantes: No debería haber valores faltantes.\n",
    "print(f\"Cantidad de registros con Ceros en Padres o Hijos: {Tabla['Padres o Hijos'].isin([0]).sum()}\")\n",
    "\n",
    "## Segunda forma\n",
    "print('---------------------------------------------------------------------')\n",
    "print(f\"Cantidad de Ceros o Faltante en Edad: {Tabla['Edad'].isna().sum()}\")\n",
    "columnas_a_revisar = ['Tarifa','Hermanos o Esposos','Padres o Hijos']\n",
    "for col in columnas_a_revisar:\n",
    "    print(f\"Cantidad de ceros en {col}: {Tabla[Tabla[col] == 0].shape[0]}\")\n"
   ]
  },
  {
   "cell_type": "markdown",
   "id": "2ca502df-6c2c-49a1-aa22-56ad5cf95ca0",
   "metadata": {},
   "source": [
    "### 1.3 Relación entre variables (gráficas): explorar las variables Sexo, Clase, Edad, y Tarifa como afectan la variable objetivo (Sobrevivió)."
   ]
  },
  {
   "cell_type": "markdown",
   "id": "8d352715-823f-4b05-89da-7abc92b31ca4",
   "metadata": {},
   "source": [
    "### 1.3.1 Gráfica de barras para Clase:"
   ]
  },
  {
   "cell_type": "code",
   "execution_count": 592,
   "id": "7480f90b-e6c7-41f3-9ef9-48ad90abfc8d",
   "metadata": {},
   "outputs": [
    {
     "data": {
      "text/plain": [
       "<Axes: xlabel='Clase', ylabel='count'>"
      ]
     },
     "execution_count": 592,
     "metadata": {},
     "output_type": "execute_result"
    },
    {
     "data": {
      "image/png": "[encoded data removed]",
      "text/plain": [
       "<Figure size 640x480 with 1 Axes>"
      ]
     },
     "metadata": {},
     "output_type": "display_data"
    }
   ],
   "source": [
    "stats_graphs.countplot(data=Tabla, x='Clase', hue='Sobrevivió')"
   ]
  },
  {
   "cell_type": "markdown",
   "id": "a505eadb-7a9d-4f91-9069-abfd6a8c07f8",
   "metadata": {},
   "source": [
    "### 1.3.2 Gráfica Boxplot para Clase:"
   ]
  },
  {
   "cell_type": "code",
   "execution_count": 594,
   "id": "80af42f3-e2d6-4572-9af3-806cddb4adcb",
   "metadata": {},
   "outputs": [
    {
     "data": {
      "text/plain": [
       "<Axes: xlabel='Clase', ylabel='Sobrevivió'>"
      ]
     },
     "execution_count": 594,
     "metadata": {},
     "output_type": "execute_result"
    },
    {
     "data": {
      "image/png": "[encoded data removed]",
      "text/plain": [
       "<Figure size 640x480 with 1 Axes>"
      ]
     },
     "metadata": {},
     "output_type": "display_data"
    }
   ],
   "source": [
    "stats_graphs.barplot(x='Clase', y='Sobrevivió', data=Tabla, order=[1, 2, 3])"
   ]
  },
  {
   "cell_type": "markdown",
   "id": "0fbeaa2e-521f-44e7-b1b8-79c8e433ed32",
   "metadata": {},
   "source": [
    "### 1.3.3 Gráfica Boxplot para Edad:"
   ]
  },
  {
   "cell_type": "code",
   "execution_count": 588,
   "id": "d1dd787c-2bfd-4816-907e-cbafb58bcac2",
   "metadata": {},
   "outputs": [
    {
     "data": {
      "text/plain": [
       "<Axes: xlabel='Sexo', ylabel='Sobrevivió'>"
      ]
     },
     "execution_count": 588,
     "metadata": {},
     "output_type": "execute_result"
    },
    {
     "data": {
      "image/png": "[encoded data removed]",
      "text/plain": [
       "<Figure size 640x480 with 1 Axes>"
      ]
     },
     "metadata": {},
     "output_type": "display_data"
    }
   ],
   "source": [
    "stats_graphs.barplot(x='Sexo', y='Sobrevivió', data=Tabla)"
   ]
  },
  {
   "cell_type": "markdown",
   "id": "aeea32db-a86c-488e-bac0-dd7480260b9d",
   "metadata": {},
   "source": [
    "### 1.3.4 Boxplot para Edad:"
   ]
  },
  {
   "cell_type": "code",
   "execution_count": 557,
   "id": "c2a8e0b8-9e93-405b-b67d-daf7ff3b090d",
   "metadata": {},
   "outputs": [
    {
     "data": {
      "text/plain": [
       "<Axes: xlabel='Sobrevivió', ylabel='Edad'>"
      ]
     },
     "execution_count": 557,
     "metadata": {},
     "output_type": "execute_result"
    },
    {
     "data": {
      "image/png": "[encoded data removed]",
      "text/plain": [
       "<Figure size 640x480 with 1 Axes>"
      ]
     },
     "metadata": {},
     "output_type": "display_data"
    }
   ],
   "source": [
    "stats_graphs.boxplot(x='Sobrevivió', y='Edad', data=Tabla)"
   ]
  },
  {
   "cell_type": "markdown",
   "id": "f39abbaa-7fcf-4a06-a13d-0e08949092db",
   "metadata": {},
   "source": [
    "### Cálculo y visualización de la matriz de correlación"
   ]
  },
  {
   "cell_type": "code",
   "execution_count": 568,
   "id": "2f324568-3fec-4744-97b3-8af60a0efdfb",
   "metadata": {},
   "outputs": [
    {
     "data": {
      "image/png": "[encoded data removed]",
      "text/plain": [
       "<Figure size 1000x600 with 2 Axes>"
      ]
     },
     "metadata": {},
     "output_type": "display_data"
    }
   ],
   "source": [
    "# Codificar variables categóricas a numéricas\n",
    "Tabla_encoded = data_handler.get_dummies(Tabla, columns=['Sexo', 'Clase'], drop_first=True)\n",
    "\n",
    "# Seleccionar columnas numéricas del DataFrame codificado\n",
    "numerical_data = Tabla_encoded.select_dtypes(include=['number'])\n",
    "\n",
    "# Calcular la matriz de correlación\n",
    "correlaciones = numerical_data.corr()\n",
    "\n",
    "# Graficar el heatmap\n",
    "plotter.figure(figsize=(10, 6))  # Tamaño del gráfico\n",
    "stats_graphs.heatmap(\n",
    "    correlaciones,\n",
    "    annot=True,        # Mostrar valores dentro de las celdas\n",
    "    cmap='coolwarm',   # Mapa de colores\n",
    "    fmt=\".2f\",         # Formato numérico con 2 decimales\n",
    "    cbar=True          # Mostrar barra de colores\n",
    ")\n",
    "plotter.title(\"Matriz de correlación con variables codificadas\", fontsize=14)\n",
    "plotter.show()\n"
   ]
  },
  {
   "cell_type": "markdown",
   "id": "04cd1b64-c28f-49f7-ac74-ca9653fc94bc",
   "metadata": {},
   "source": [
    "## 2. Preprocesar los datos limpiándolos, tratando valores faltantes y transformándolos según sea necesario."
   ]
  },
  {
   "cell_type": "markdown",
   "id": "a5a66561-1027-4fa0-8606-9122a6623b0b",
   "metadata": {},
   "source": [
    "### 2.1 Identificar los campos con valores ceros o nulos (Faltantes)"
   ]
  },
  {
   "cell_type": "code",
   "execution_count": 605,
   "id": "2343810e-407b-4fa1-8a96-783eead61548",
   "metadata": {},
   "outputs": [
    {
     "name": "stdout",
     "output_type": "stream",
     "text": [
      "Cantidad de registros con Cero o Faltante en Edad: 177\n",
      "Cantidad de registros con Cero en Tarifa: 15\n",
      "Cantidad de registros con Cero en Hermanos o Esposos: 608\n",
      "Cantidad de registros con Cero en Padres o Hijos: 678\n"
     ]
    }
   ],
   "source": [
    "#Descripción: Edad del pasajero.\n",
    "#Análisis de faltantes: los valores faltantes pueden estar justificados (por ejemplo, si no se tenía información).\n",
    "print(f\"Cantidad de registros con Cero o Faltante en Edad: {Tabla['Edad'].isna().sum()}\")\n",
    "\n",
    "#Descripción: Precio que pagó el pasajero por el boleto.\n",
    "#Análisis de faltantes: No debería haber valores faltantes, pero si los hay, podría ser un error de captura de datos.\n",
    "print(f\"Cantidad de registros con Cero en Tarifa: {Tabla['Tarifa'].isin([0]).sum()}\")\n",
    "\n",
    "#Descripción: Número de hermanos o esposos a bordo del barco: \n",
    "#Análisis de faltantes: No debería haber valores faltantes.\n",
    "print(f\"Cantidad de registros con Cero en Hermanos o Esposos: {Tabla['Hermanos o Esposos'].isin([0]).sum()}\")\n",
    "\n",
    "#Descripción: Número de padres o hijos a bordo.\n",
    "#Análisis de faltantes: No debería haber valores faltantes.\n",
    "print(f\"Cantidad de registros con Cero en Padres o Hijos: {Tabla['Padres o Hijos'].isin([0]).sum()}\")"
   ]
  },
  {
   "cell_type": "markdown",
   "id": "030e7843-1eba-4ba5-ab9d-2d7b7555a97a",
   "metadata": {},
   "source": [
    "### 2.2 Una vez identificados, se hace la imputación "
   ]
  },
  {
   "cell_type": "code",
   "execution_count": 608,
   "id": "db286219-b9c2-4372-b1d1-7aa67be5292d",
   "metadata": {},
   "outputs": [],
   "source": [
    "#Para la imputación de valores faltantes utilizamos la media o el promedio de esa misma columna.\n",
    "#los datos están distribuidos de manera aproximadamente normal. \n",
    "#Es útil cuando no hay valores extremos (outliers) que puedan distorsionar el promedio.\n",
    "\n",
    "#Tabla['Edad'] = Tabla['Edad'].replace(0, Tabla['Edad'].mean())  # Reemplazar ceros por la media\n",
    "Tabla['Edad'] = Tabla['Edad'].fillna(Tabla['Edad'].mean())  # Imputar NaN con la media\n",
    "\n",
    "# Para imputar 'Tarifa' (reemplazar ceros por la media)\n",
    "Tabla['Tarifa'] = Tabla['Tarifa'].replace(0, Tabla['Tarifa'].mean())  # Reemplazar ceros por la media\n",
    "\n",
    "# Para imputar 'Hermanos o Esposos' (reemplazar ceros por la media)\n",
    "Tabla['Hermanos o Esposos'] = Tabla['Hermanos o Esposos'].replace(0, Tabla['Hermanos o Esposos'].mean())  # Reemplazar ceros por la media\n",
    "\n",
    "# Para imputar 'Padres o Hijos' (reemplazar ceros por la media)\n",
    "Tabla['Padres o Hijos'] = Tabla['Padres o Hijos'].replace(0, Tabla['Padres o Hijos'].mean())  # Reemplazar ceros por la media"
   ]
  },
  {
   "cell_type": "markdown",
   "id": "4d24aa8a-c9f3-47aa-af89-2ebc4f14b064",
   "metadata": {},
   "source": [
    "### 2.3 Se verifica que ya no haya valores faltantes ejecutando nuevamente lo siguiete: "
   ]
  },
  {
   "cell_type": "code",
   "execution_count": 611,
   "id": "dd3cc65c-fe8e-4e3a-8fab-f523f70cf42d",
   "metadata": {},
   "outputs": [
    {
     "name": "stdout",
     "output_type": "stream",
     "text": [
      "---------------------------------------------------------------------\n",
      "Cantidad de Ceros o Faltante en Edad: 0\n",
      "Cantidad de ceros en Tarifa: 0\n",
      "Cantidad de ceros en Hermanos o Esposos: 0\n",
      "Cantidad de ceros en Padres o Hijos: 0\n"
     ]
    }
   ],
   "source": [
    "## Segunda forma\n",
    "print('---------------------------------------------------------------------')\n",
    "print(f\"Cantidad de Ceros o Faltante en Edad: {Tabla['Edad'].isna().sum()}\")\n",
    "columnas_a_revisar = ['Tarifa','Hermanos o Esposos','Padres o Hijos']\n",
    "for col in columnas_a_revisar:\n",
    "    print(f\"Cantidad de ceros en {col}: {Tabla[Tabla[col] == 0].shape[0]}\")"
   ]
  },
  {
   "cell_type": "markdown",
   "id": "9fed97e0-3106-49b6-8cd1-35c7c2b7f1c6",
   "metadata": {},
   "source": [
    "### 2.4 Identificar valores Atípico"
   ]
  },
  {
   "cell_type": "markdown",
   "id": "48f77cba-f70c-487f-8257-5b19aa8906c6",
   "metadata": {},
   "source": [
    "### 2.4.1 Graficamos los campos que requiera analisis"
   ]
  },
  {
   "cell_type": "code",
   "execution_count": 623,
   "id": "7b89de49-ca9d-40c2-b996-261448948660",
   "metadata": {},
   "outputs": [
    {
     "data": {
      "image/png": "[encoded data removed]",
      "text/plain": [
       "<Figure size 1600x500 with 4 Axes>"
      ]
     },
     "metadata": {},
     "output_type": "display_data"
    }
   ],
   "source": [
    "# Seleccionar las variables que deseas graficar\n",
    "variables = ['Tarifa', 'Edad', 'Hermanos o Esposos', 'Padres o Hijos']\n",
    "\n",
    "# Crear la figura y los subgráficos\n",
    "fig, axes = plotter.subplots(1, len(variables), figsize=(16, 5))\n",
    "\n",
    "# Graficar cada variable en su respectivo subgráfico\n",
    "for i, var in enumerate(variables):\n",
    "    stats_graphs.boxplot(\n",
    "        x=Tabla[var], \n",
    "        ax=axes[i],  # Asignar el gráfico a cada subgráfico\n",
    "        patch_artist=True,  # Rellenar la caja con color\n",
    "        boxprops=dict(facecolor='skyblue', edgecolor='darkblue'),  # Relleno y borde de la caja\n",
    "        whiskerprops=dict(color='darkorange', linewidth=2),  # Color de los bigotes\n",
    "        capprops=dict(color='green', linewidth=2),  # Color de las tapas\n",
    "        flierprops=dict(marker='o', color='red', markersize=5)  # Puntos atípicos\n",
    "    )\n",
    "    axes[i].set_title('Faltantes y Atípicos ' f'{var}', fontsize=12, fontweight='bold', color='darkblue')\n",
    "    axes[i].set_xlabel(var, fontsize=10, color='blue')\n",
    "    axes[i].set_ylabel('Frecuencia', fontsize=10, color='blue')\n",
    "    axes[i].grid(True, which='both', color='gray', linestyle='--', linewidth=0.5)\n",
    "\n",
    "# Mostrar la gráfica con los subgráficos\n",
    "plotter.tight_layout()  # Ajusta los subgráficos para que no se sobrepongan\n",
    "plotter.show()"
   ]
  },
  {
   "cell_type": "markdown",
   "id": "592a47e6-8f52-4a7b-a761-d0af1d929c94",
   "metadata": {},
   "source": [
    "### 2.4.2 Visualización de valores atípicos (outliers)"
   ]
  },
  {
   "cell_type": "code",
   "execution_count": 638,
   "id": "a39a0c48-4814-482c-9bdc-1314347d28ff",
   "metadata": {},
   "outputs": [
    {
     "name": "stdout",
     "output_type": "stream",
     "text": [
      "Valores atípicos en la variable Edad:\n",
      "7       2.00\n",
      "11     58.00\n",
      "15     55.00\n",
      "16      2.00\n",
      "33     66.00\n",
      "       ...  \n",
      "827     1.00\n",
      "829    62.00\n",
      "831     0.83\n",
      "851    74.00\n",
      "879    56.00\n",
      "Name: Edad, Length: 66, dtype: float64\n",
      "--------------------------------------------------\n",
      "Valores atípicos en la variable Hermanos o Esposos:\n",
      "7      3.0\n",
      "16     4.0\n",
      "24     3.0\n",
      "27     3.0\n",
      "38     2.0\n",
      "      ... \n",
      "824    4.0\n",
      "846    8.0\n",
      "850    4.0\n",
      "860    2.0\n",
      "863    8.0\n",
      "Name: Hermanos o Esposos, Length: 74, dtype: float64\n",
      "--------------------------------------------------\n",
      "Valores atípicos en la variable Padres o Hijos:\n",
      "7      1.0\n",
      "8      2.0\n",
      "10     1.0\n",
      "13     5.0\n",
      "16     1.0\n",
      "      ... \n",
      "871    1.0\n",
      "879    1.0\n",
      "880    1.0\n",
      "885    5.0\n",
      "888    2.0\n",
      "Name: Padres o Hijos, Length: 213, dtype: float64\n",
      "--------------------------------------------------\n",
      "Valores atípicos en la variable Tarifa:\n",
      "1       71.2833\n",
      "27     263.0000\n",
      "31     146.5208\n",
      "34      82.1708\n",
      "52      76.7292\n",
      "         ...   \n",
      "846     69.5500\n",
      "849     89.1042\n",
      "856    164.8667\n",
      "863     69.5500\n",
      "879     83.1583\n",
      "Name: Tarifa, Length: 114, dtype: float64\n",
      "--------------------------------------------------\n"
     ]
    }
   ],
   "source": [
    "# Calcular los cuartiles y el IQR para cada variable numérica\n",
    "for var in variables_numericas:\n",
    "    Q1 = Tabla[var].quantile(0.25)\n",
    "    Q3 = Tabla[var].quantile(0.75)\n",
    "    IQR = Q3 - Q1\n",
    "    \n",
    "    # Definir los límites inferior y superior para identificar los outliers\n",
    "    limite_inferior = Q1 - 1.5 * IQR\n",
    "    limite_superior = Q3 + 1.5 * IQR\n",
    "    \n",
    "    # Identificar los valores atípicos\n",
    "    outliers = Tabla[(Tabla[var] < limite_inferior) | (Tabla[var] > limite_superior)]\n",
    "    \n",
    "    # Mostrar los valores atípicos\n",
    "    print(f\"Valores atípicos en la variable {var}:\")\n",
    "    print(outliers[var])\n",
    "    print(\"-\" * 50)"
   ]
  },
  {
   "cell_type": "markdown",
   "id": "70d3cd34-6d95-4a85-b557-a2ab557fc3b5",
   "metadata": {},
   "source": [
    "### 2.4.3 Graficamos los valores Atípicos"
   ]
  },
  {
   "cell_type": "code",
   "execution_count": 642,
   "id": "679fd491-44f8-4249-b2b8-a48eba32753a",
   "metadata": {},
   "outputs": [
    {
     "data": {
      "image/png": "[encoded data removed]",
      "text/plain": [
       "<Figure size 1200x800 with 4 Axes>"
      ]
     },
     "metadata": {},
     "output_type": "display_data"
    }
   ],
   "source": [
    "# Graficar los boxplots para ver visualmente los valores atípicos\n",
    "plotter.figure(figsize=(12, 8))\n",
    "\n",
    "for i, var in enumerate(variables_numericas):\n",
    "    ax = plotter.subplot(2, 2, i+1)\n",
    "    stats_graphs.boxplot(x=Tabla[var], ax=ax, color='skyblue', fliersize=7)\n",
    "    ax.set_title(f\"Boxplot de {var}\", fontsize=12, fontweight='bold')\n",
    "\n",
    "plotter.tight_layout()\n",
    "plotter.show()"
   ]
  },
  {
   "cell_type": "markdown",
   "id": "ba9d5767-796b-4a19-9954-b994fd6f4bc6",
   "metadata": {},
   "source": [
    "### 2.4.4 Filtrado de valores atípicos usando el IQR y verificarlos que se hayan filtrados"
   ]
  },
  {
   "cell_type": "code",
   "execution_count": 649,
   "id": "b001a8b3-93f1-479c-a9e4-b41983c772e5",
   "metadata": {},
   "outputs": [
    {
     "name": "stdout",
     "output_type": "stream",
     "text": [
      "    ID Pasajero  Sobrevivió  Clase                                Nombre  \\\n",
      "2             3           1      3                Heikkinen, Miss. Laina   \n",
      "4             5           0      3              Allen, Mr. William Henry   \n",
      "5             6           0      3                      Moran, Mr. James   \n",
      "12           13           0      3        Saundercock, Mr. William Henry   \n",
      "14           15           0      3  Vestrom, Miss. Hulda Amanda Adolfina   \n",
      "\n",
      "      Sexo       Edad  Hermanos o Esposos  Padres o Hijos  Número de Boleto  \\\n",
      "2   female  26.000000            0.523008        0.381594  STON/O2. 3101282   \n",
      "4     male  35.000000            0.523008        0.381594            373450   \n",
      "5     male  29.699118            0.523008        0.381594            330877   \n",
      "12    male  20.000000            0.523008        0.381594         A/5. 2151   \n",
      "14  female  14.000000            0.523008        0.381594            350406   \n",
      "\n",
      "    Tarifa Cabina Puerto de Embarque  \n",
      "2   7.9250    NaN                  S  \n",
      "4   8.0500    NaN                  S  \n",
      "5   8.4583    NaN                  Q  \n",
      "12  8.0500    NaN                  S  \n",
      "14  7.8542    NaN                  S  \n"
     ]
    }
   ],
   "source": [
    "# Filtrar los valores atípicos utilizando el IQR\n",
    "for var in variables_numericas:\n",
    "    # Calcular los cuartiles y el IQR para cada variable\n",
    "    Q1 = Tabla[var].quantile(0.25)\n",
    "    Q3 = Tabla[var].quantile(0.75)\n",
    "    IQR = Q3 - Q1\n",
    "    \n",
    "    # Definir los límites inferior y superior para identificar los outliers\n",
    "    limite_inferior = Q1 - 1.5 * IQR\n",
    "    limite_superior = Q3 + 1.5 * IQR\n",
    "    \n",
    "    # Filtrar los datos, eliminando los outliers\n",
    "    Tabla = Tabla[(Tabla[var] >= limite_inferior) & (Tabla[var] <= limite_superior)]\n",
    "\n",
    "# Verificar los datos filtrados\n",
    "print(Tabla.head())"
   ]
  },
  {
   "cell_type": "markdown",
   "id": "8c51fe62-0400-4d38-925a-7c22c1fac716",
   "metadata": {},
   "source": [
    "### 2.5 Por ultimo mostrar el resumen de la estructura del DataFrame o tabla"
   ]
  },
  {
   "cell_type": "code",
   "execution_count": 651,
   "id": "9e21487b-bbd3-468c-ae85-6ab82781787c",
   "metadata": {},
   "outputs": [
    {
     "name": "stdout",
     "output_type": "stream",
     "text": [
      "ID Pasajero             0\n",
      "Sobrevivió              0\n",
      "Clase                   0\n",
      "Nombre                  0\n",
      "Sexo                    0\n",
      "Edad                    0\n",
      "Hermanos o Esposos      0\n",
      "Padres o Hijos          0\n",
      "Número de Boleto        0\n",
      "Tarifa                  0\n",
      "Cabina                286\n",
      "Puerto de Embarque      0\n",
      "dtype: int64\n"
     ]
    }
   ],
   "source": [
    "print(Tabla.isnull().sum())"
   ]
  },
  {
   "cell_type": "markdown",
   "id": "2923b3e5-a837-49b2-a628-a25515ef46f2",
   "metadata": {},
   "source": [
    "## 3. Selección de características"
   ]
  },
  {
   "cell_type": "markdown",
   "id": "98c3cf61-085b-4674-b75b-96bbbb6c0e61",
   "metadata": {},
   "source": [
    "### 3.1 Cuantos sobrevivieron"
   ]
  },
  {
   "cell_type": "code",
   "execution_count": 661,
   "id": "a3c74a0c-6dbc-45fd-8c0e-10bcd7139f10",
   "metadata": {},
   "outputs": [
    {
     "name": "stdout",
     "output_type": "stream",
     "text": [
      "Cantidad de sobrevivientes y no sobrevivientes: \n",
      "Sobrevivió\n",
      "0    230\n",
      "1     64\n",
      "Name: count, dtype: int64\n"
     ]
    }
   ],
   "source": [
    "# Contar la cantidad de sobrevivientes y no sobrevivientes\n",
    "sobrevivientes = Tabla['Sobrevivió'].value_counts()\n",
    "print(f\"Cantidad de sobrevivientes y no sobrevivientes: \\n{sobrevivientes}\")"
   ]
  },
  {
   "cell_type": "markdown",
   "id": "88abcfee-a4ff-4792-8e05-5659c1a31dff",
   "metadata": {},
   "source": [
    "### 3.2 Distribución por sexo"
   ]
  },
  {
   "cell_type": "code",
   "execution_count": 670,
   "id": "187899e2-35ed-467c-b33c-274ec733bb6b",
   "metadata": {},
   "outputs": [
    {
     "data": {
      "image/png": "[encoded data removed]",
      "text/plain": [
       "<Figure size 500x300 with 1 Axes>"
      ]
     },
     "metadata": {},
     "output_type": "display_data"
    }
   ],
   "source": [
    "# Visualizar la distribución de sobrevivientes por sexo\n",
    "plotter.figure(figsize=(5, 3))\n",
    "stats_graphs.countplot(x='Sexo', hue='Sobrevivió', data=Tabla)\n",
    "plotter.title('Distribución de Sobrevivientes por Sexo', fontsize=14)\n",
    "plotter.xlabel('Sexo')\n",
    "plotter.ylabel('Número de Pasajeros')\n",
    "plotter.show()"
   ]
  },
  {
   "cell_type": "markdown",
   "id": "f0017abf-89eb-450f-9ff6-f465e8a20a9f",
   "metadata": {},
   "source": [
    "### 3.2 Distribución por Clase"
   ]
  },
  {
   "cell_type": "code",
   "execution_count": 675,
   "id": "c231a03a-e07f-47e4-b212-8b6653594a2a",
   "metadata": {},
   "outputs": [
    {
     "data": {
      "image/png": "[encoded data removed]",
      "text/plain": [
       "<Figure size 500x300 with 1 Axes>"
      ]
     },
     "metadata": {},
     "output_type": "display_data"
    }
   ],
   "source": [
    "# Visualizar la distribución de sobrevivientes por clase\n",
    "plotter.figure(figsize=(5, 3))\n",
    "stats_graphs.countplot(x='Clase', hue='Sobrevivió', data=Tabla)\n",
    "plotter.title('Distribución de Sobrevivientes por Clase', fontsize=14)\n",
    "plotter.xlabel('Clase')\n",
    "plotter.ylabel('Número de Pasajeros')\n",
    "plotter.show()"
   ]
  },
  {
   "cell_type": "markdown",
   "id": "3cfb1f37-7e3e-4cc7-80b0-d98a00a7ae3c",
   "metadata": {},
   "source": [
    "### 3.2 Distribución por Clase"
   ]
  },
  {
   "cell_type": "code",
   "execution_count": 687,
   "id": "37d0c819-dba4-4bae-9ad9-53a4efa25697",
   "metadata": {},
   "outputs": [
    {
     "data": {
      "image/png": "[encoded data removed]",
      "text/plain": [
       "<Figure size 500x300 with 1 Axes>"
      ]
     },
     "metadata": {},
     "output_type": "display_data"
    }
   ],
   "source": [
    "# Visualizar la distribución de sobrevivientes por edad\n",
    "plotter.figure(figsize=(5, 3))\n",
    "stats_graphs.boxplot(x='Sobrevivió', y='Edad', data=Tabla)\n",
    "plotter.title('Distribución de Edad según Sobrevivencia', fontsize=14)\n",
    "plotter.xlabel('Sobrevivió')\n",
    "plotter.ylabel('Edad')\n",
    "plotter.show()"
   ]
  },
  {
   "cell_type": "markdown",
   "id": "57eeec51-39f0-43d0-be9e-c17397356c45",
   "metadata": {},
   "source": [
    "### Datos Sobrevivió"
   ]
  },
  {
   "cell_type": "code",
   "execution_count": 715,
   "id": "c99fd8f9-f17f-46da-8238-287dbd0cff7f",
   "metadata": {},
   "outputs": [
    {
     "data": {
      "text/html": [
       "<div>\n",
       "<style scoped>\n",
       "    .dataframe tbody tr th:only-of-type {\n",
       "        vertical-align: middle;\n",
       "    }\n",
       "\n",
       "    .dataframe tbody tr th {\n",
       "        vertical-align: top;\n",
       "    }\n",
       "\n",
       "    .dataframe thead th {\n",
       "        text-align: right;\n",
       "    }\n",
       "</style>\n",
       "<table border=\"1\" class=\"dataframe\">\n",
       "  <thead>\n",
       "    <tr style=\"text-align: right;\">\n",
       "      <th></th>\n",
       "      <th>Sobrevivió</th>\n",
       "    </tr>\n",
       "  </thead>\n",
       "  <tbody>\n",
       "    <tr>\n",
       "      <th>2</th>\n",
       "      <td>1</td>\n",
       "    </tr>\n",
       "    <tr>\n",
       "      <th>4</th>\n",
       "      <td>0</td>\n",
       "    </tr>\n",
       "    <tr>\n",
       "      <th>5</th>\n",
       "      <td>0</td>\n",
       "    </tr>\n",
       "    <tr>\n",
       "      <th>12</th>\n",
       "      <td>0</td>\n",
       "    </tr>\n",
       "    <tr>\n",
       "      <th>14</th>\n",
       "      <td>0</td>\n",
       "    </tr>\n",
       "    <tr>\n",
       "      <th>...</th>\n",
       "      <td>...</td>\n",
       "    </tr>\n",
       "    <tr>\n",
       "      <th>881</th>\n",
       "      <td>0</td>\n",
       "    </tr>\n",
       "    <tr>\n",
       "      <th>882</th>\n",
       "      <td>0</td>\n",
       "    </tr>\n",
       "    <tr>\n",
       "      <th>883</th>\n",
       "      <td>0</td>\n",
       "    </tr>\n",
       "    <tr>\n",
       "      <th>884</th>\n",
       "      <td>0</td>\n",
       "    </tr>\n",
       "    <tr>\n",
       "      <th>890</th>\n",
       "      <td>0</td>\n",
       "    </tr>\n",
       "  </tbody>\n",
       "</table>\n",
       "<p>294 rows × 1 columns</p>\n",
       "</div>"
      ],
      "text/plain": [
       "     Sobrevivió\n",
       "2             1\n",
       "4             0\n",
       "5             0\n",
       "12            0\n",
       "14            0\n",
       "..          ...\n",
       "881           0\n",
       "882           0\n",
       "883           0\n",
       "884           0\n",
       "890           0\n",
       "\n",
       "[294 rows x 1 columns]"
      ]
     },
     "execution_count": 715,
     "metadata": {},
     "output_type": "execute_result"
    }
   ],
   "source": [
    "# Si tienes menos de 60 registros, ajusta la cantidad a las filas disponibles\n",
    "Tabla[['Sobrevivió']].head(891)  # Muestra las primeras filas disponibles\n"
   ]
  },
  {
   "cell_type": "markdown",
   "id": "90ae0c2d-28ef-495e-88d6-b4b844941ac2",
   "metadata": {},
   "source": [
    "## 4. Dividir el dataset en Train y Test"
   ]
  },
  {
   "cell_type": "markdown",
   "id": "77a59045-fb6a-470a-9e33-127bbb87b175",
   "metadata": {},
   "source": [
    "### 4.1. Dividir datos:"
   ]
  },
  {
   "cell_type": "code",
   "execution_count": 808,
   "id": "f27dcafa-1d9d-4796-bda4-ee25ec7af3cf",
   "metadata": {},
   "outputs": [],
   "source": [
    "X = Tabla.drop('Sobrevivió', axis=1)\n",
    "y = Tabla['Sobrevivió']\n",
    "X_train, X_test, y_train, y_test = train_test_split(X, y, test_size=0.25, random_state=0)\n"
   ]
  },
  {
   "cell_type": "code",
   "execution_count": 800,
   "id": "73dedda2-0aeb-42f4-9795-7f4df67ffc92",
   "metadata": {},
   "outputs": [
    {
     "name": "stdout",
     "output_type": "stream",
     "text": [
      "     ID Pasajero       Edad  Hermanos o Esposos  Padres o Hijos  \\\n",
      "471          472  38.000000            0.523008        0.381594   \n",
      "598          599  29.699118            0.523008        0.381594   \n",
      "713          714  29.000000            0.523008        0.381594   \n",
      "715          716  19.000000            0.523008        0.381594   \n",
      "226          227  19.000000            0.523008        0.381594   \n",
      "..           ...        ...                 ...             ...   \n",
      "776          777  29.699118            0.523008        0.381594   \n",
      "589          590  29.699118            0.523008        0.381594   \n",
      "368          369  29.699118            0.523008        0.381594   \n",
      "127          128  24.000000            0.523008        0.381594   \n",
      "524          525  29.699118            0.523008        0.381594   \n",
      "\n",
      "    Número de Boleto   Tarifa Puerto de Embarque  Sexo_male  Clase_3  \n",
      "471           315089   8.6625                  S       True     True  \n",
      "598             2664   7.2250                  C       True     True  \n",
      "713             7545   9.4833                  S       True     True  \n",
      "715           348124   7.6500                  S       True     True  \n",
      "226        SW/PP 751  10.5000                  S       True    False  \n",
      "..               ...      ...                ...        ...      ...  \n",
      "776           383121   7.7500                  Q       True     True  \n",
      "589       A./5. 3235   8.0500                  S       True     True  \n",
      "368            14313   7.7500                  Q      False     True  \n",
      "127          C 17369   7.1417                  S       True     True  \n",
      "524             2700   7.2292                  C       True     True  \n",
      "\n",
      "[220 rows x 9 columns]\n"
     ]
    }
   ],
   "source": [
    "#print(X_train.shape, X_test.shape)\n",
    "print(X_train)"
   ]
  },
  {
   "cell_type": "markdown",
   "id": "bbbb8e38-3b79-4e48-afc9-d1acb3ae2f53",
   "metadata": {},
   "source": [
    "## 5. Entrenar el modelo"
   ]
  },
  {
   "cell_type": "code",
   "execution_count": 859,
   "id": "82e4d2b6-4759-4891-a93e-8566d16ad1a4",
   "metadata": {},
   "outputs": [
    {
     "ename": "ValueError",
     "evalue": "could not convert string to float: 'SW/PP 751'",
     "output_type": "error",
     "traceback": [
      "\u001b[1;31m---------------------------------------------------------------------------\u001b[0m",
      "\u001b[1;31mValueError\u001b[0m                                Traceback (most recent call last)",
      "Cell \u001b[1;32mIn[859], line 2\u001b[0m\n\u001b[0;32m      1\u001b[0m model \u001b[38;5;241m=\u001b[39m LogReg(solver \u001b[38;5;241m=\u001b[39m \u001b[38;5;124m\"\u001b[39m\u001b[38;5;124mliblinear\u001b[39m\u001b[38;5;124m\"\u001b[39m)\n\u001b[1;32m----> 2\u001b[0m model\u001b[38;5;241m.\u001b[39mfit(X_train, y_train)\n\u001b[0;32m      4\u001b[0m prediccion\u001b[38;5;241m=\u001b[39mmodel\u001b[38;5;241m.\u001b[39mpredict(X_test)\n",
      "File \u001b[1;32m~\\anaconda3\\Lib\\site-packages\\sklearn\\base.py:1473\u001b[0m, in \u001b[0;36m_fit_context.<locals>.decorator.<locals>.wrapper\u001b[1;34m(estimator, *args, **kwargs)\u001b[0m\n\u001b[0;32m   1466\u001b[0m     estimator\u001b[38;5;241m.\u001b[39m_validate_params()\n\u001b[0;32m   1468\u001b[0m \u001b[38;5;28;01mwith\u001b[39;00m config_context(\n\u001b[0;32m   1469\u001b[0m     skip_parameter_validation\u001b[38;5;241m=\u001b[39m(\n\u001b[0;32m   1470\u001b[0m         prefer_skip_nested_validation \u001b[38;5;129;01mor\u001b[39;00m global_skip_validation\n\u001b[0;32m   1471\u001b[0m     )\n\u001b[0;32m   1472\u001b[0m ):\n\u001b[1;32m-> 1473\u001b[0m     \u001b[38;5;28;01mreturn\u001b[39;00m fit_method(estimator, \u001b[38;5;241m*\u001b[39margs, \u001b[38;5;241m*\u001b[39m\u001b[38;5;241m*\u001b[39mkwargs)\n",
      "File \u001b[1;32m~\\anaconda3\\Lib\\site-packages\\sklearn\\linear_model\\_logistic.py:1223\u001b[0m, in \u001b[0;36mLogisticRegression.fit\u001b[1;34m(self, X, y, sample_weight)\u001b[0m\n\u001b[0;32m   1220\u001b[0m \u001b[38;5;28;01melse\u001b[39;00m:\n\u001b[0;32m   1221\u001b[0m     _dtype \u001b[38;5;241m=\u001b[39m [np\u001b[38;5;241m.\u001b[39mfloat64, np\u001b[38;5;241m.\u001b[39mfloat32]\n\u001b[1;32m-> 1223\u001b[0m X, y \u001b[38;5;241m=\u001b[39m \u001b[38;5;28mself\u001b[39m\u001b[38;5;241m.\u001b[39m_validate_data(\n\u001b[0;32m   1224\u001b[0m     X,\n\u001b[0;32m   1225\u001b[0m     y,\n\u001b[0;32m   1226\u001b[0m     accept_sparse\u001b[38;5;241m=\u001b[39m\u001b[38;5;124m\"\u001b[39m\u001b[38;5;124mcsr\u001b[39m\u001b[38;5;124m\"\u001b[39m,\n\u001b[0;32m   1227\u001b[0m     dtype\u001b[38;5;241m=\u001b[39m_dtype,\n\u001b[0;32m   1228\u001b[0m     order\u001b[38;5;241m=\u001b[39m\u001b[38;5;124m\"\u001b[39m\u001b[38;5;124mC\u001b[39m\u001b[38;5;124m\"\u001b[39m,\n\u001b[0;32m   1229\u001b[0m     accept_large_sparse\u001b[38;5;241m=\u001b[39msolver \u001b[38;5;129;01mnot\u001b[39;00m \u001b[38;5;129;01min\u001b[39;00m [\u001b[38;5;124m\"\u001b[39m\u001b[38;5;124mliblinear\u001b[39m\u001b[38;5;124m\"\u001b[39m, \u001b[38;5;124m\"\u001b[39m\u001b[38;5;124msag\u001b[39m\u001b[38;5;124m\"\u001b[39m, \u001b[38;5;124m\"\u001b[39m\u001b[38;5;124msaga\u001b[39m\u001b[38;5;124m\"\u001b[39m],\n\u001b[0;32m   1230\u001b[0m )\n\u001b[0;32m   1231\u001b[0m check_classification_targets(y)\n\u001b[0;32m   1232\u001b[0m \u001b[38;5;28mself\u001b[39m\u001b[38;5;241m.\u001b[39mclasses_ \u001b[38;5;241m=\u001b[39m np\u001b[38;5;241m.\u001b[39munique(y)\n",
      "File \u001b[1;32m~\\anaconda3\\Lib\\site-packages\\sklearn\\base.py:650\u001b[0m, in \u001b[0;36mBaseEstimator._validate_data\u001b[1;34m(self, X, y, reset, validate_separately, cast_to_ndarray, **check_params)\u001b[0m\n\u001b[0;32m    648\u001b[0m         y \u001b[38;5;241m=\u001b[39m check_array(y, input_name\u001b[38;5;241m=\u001b[39m\u001b[38;5;124m\"\u001b[39m\u001b[38;5;124my\u001b[39m\u001b[38;5;124m\"\u001b[39m, \u001b[38;5;241m*\u001b[39m\u001b[38;5;241m*\u001b[39mcheck_y_params)\n\u001b[0;32m    649\u001b[0m     \u001b[38;5;28;01melse\u001b[39;00m:\n\u001b[1;32m--> 650\u001b[0m         X, y \u001b[38;5;241m=\u001b[39m check_X_y(X, y, \u001b[38;5;241m*\u001b[39m\u001b[38;5;241m*\u001b[39mcheck_params)\n\u001b[0;32m    651\u001b[0m     out \u001b[38;5;241m=\u001b[39m X, y\n\u001b[0;32m    653\u001b[0m \u001b[38;5;28;01mif\u001b[39;00m \u001b[38;5;129;01mnot\u001b[39;00m no_val_X \u001b[38;5;129;01mand\u001b[39;00m check_params\u001b[38;5;241m.\u001b[39mget(\u001b[38;5;124m\"\u001b[39m\u001b[38;5;124mensure_2d\u001b[39m\u001b[38;5;124m\"\u001b[39m, \u001b[38;5;28;01mTrue\u001b[39;00m):\n",
      "File \u001b[1;32m~\\anaconda3\\Lib\\site-packages\\sklearn\\utils\\validation.py:1301\u001b[0m, in \u001b[0;36mcheck_X_y\u001b[1;34m(X, y, accept_sparse, accept_large_sparse, dtype, order, copy, force_writeable, force_all_finite, ensure_2d, allow_nd, multi_output, ensure_min_samples, ensure_min_features, y_numeric, estimator)\u001b[0m\n\u001b[0;32m   1296\u001b[0m         estimator_name \u001b[38;5;241m=\u001b[39m _check_estimator_name(estimator)\n\u001b[0;32m   1297\u001b[0m     \u001b[38;5;28;01mraise\u001b[39;00m \u001b[38;5;167;01mValueError\u001b[39;00m(\n\u001b[0;32m   1298\u001b[0m         \u001b[38;5;124mf\u001b[39m\u001b[38;5;124m\"\u001b[39m\u001b[38;5;132;01m{\u001b[39;00mestimator_name\u001b[38;5;132;01m}\u001b[39;00m\u001b[38;5;124m requires y to be passed, but the target y is None\u001b[39m\u001b[38;5;124m\"\u001b[39m\n\u001b[0;32m   1299\u001b[0m     )\n\u001b[1;32m-> 1301\u001b[0m X \u001b[38;5;241m=\u001b[39m check_array(\n\u001b[0;32m   1302\u001b[0m     X,\n\u001b[0;32m   1303\u001b[0m     accept_sparse\u001b[38;5;241m=\u001b[39maccept_sparse,\n\u001b[0;32m   1304\u001b[0m     accept_large_sparse\u001b[38;5;241m=\u001b[39maccept_large_sparse,\n\u001b[0;32m   1305\u001b[0m     dtype\u001b[38;5;241m=\u001b[39mdtype,\n\u001b[0;32m   1306\u001b[0m     order\u001b[38;5;241m=\u001b[39morder,\n\u001b[0;32m   1307\u001b[0m     copy\u001b[38;5;241m=\u001b[39mcopy,\n\u001b[0;32m   1308\u001b[0m     force_writeable\u001b[38;5;241m=\u001b[39mforce_writeable,\n\u001b[0;32m   1309\u001b[0m     force_all_finite\u001b[38;5;241m=\u001b[39mforce_all_finite,\n\u001b[0;32m   1310\u001b[0m     ensure_2d\u001b[38;5;241m=\u001b[39mensure_2d,\n\u001b[0;32m   1311\u001b[0m     allow_nd\u001b[38;5;241m=\u001b[39mallow_nd,\n\u001b[0;32m   1312\u001b[0m     ensure_min_samples\u001b[38;5;241m=\u001b[39mensure_min_samples,\n\u001b[0;32m   1313\u001b[0m     ensure_min_features\u001b[38;5;241m=\u001b[39mensure_min_features,\n\u001b[0;32m   1314\u001b[0m     estimator\u001b[38;5;241m=\u001b[39mestimator,\n\u001b[0;32m   1315\u001b[0m     input_name\u001b[38;5;241m=\u001b[39m\u001b[38;5;124m\"\u001b[39m\u001b[38;5;124mX\u001b[39m\u001b[38;5;124m\"\u001b[39m,\n\u001b[0;32m   1316\u001b[0m )\n\u001b[0;32m   1318\u001b[0m y \u001b[38;5;241m=\u001b[39m _check_y(y, multi_output\u001b[38;5;241m=\u001b[39mmulti_output, y_numeric\u001b[38;5;241m=\u001b[39my_numeric, estimator\u001b[38;5;241m=\u001b[39mestimator)\n\u001b[0;32m   1320\u001b[0m check_consistent_length(X, y)\n",
      "File \u001b[1;32m~\\anaconda3\\Lib\\site-packages\\sklearn\\utils\\validation.py:929\u001b[0m, in \u001b[0;36mcheck_array\u001b[1;34m(array, accept_sparse, accept_large_sparse, dtype, order, copy, force_writeable, force_all_finite, ensure_2d, allow_nd, ensure_min_samples, ensure_min_features, estimator, input_name)\u001b[0m\n\u001b[0;32m    924\u001b[0m \u001b[38;5;28;01mif\u001b[39;00m pandas_requires_conversion:\n\u001b[0;32m    925\u001b[0m     \u001b[38;5;66;03m# pandas dataframe requires conversion earlier to handle extension dtypes with\u001b[39;00m\n\u001b[0;32m    926\u001b[0m     \u001b[38;5;66;03m# nans\u001b[39;00m\n\u001b[0;32m    927\u001b[0m     \u001b[38;5;66;03m# Use the original dtype for conversion if dtype is None\u001b[39;00m\n\u001b[0;32m    928\u001b[0m     new_dtype \u001b[38;5;241m=\u001b[39m dtype_orig \u001b[38;5;28;01mif\u001b[39;00m dtype \u001b[38;5;129;01mis\u001b[39;00m \u001b[38;5;28;01mNone\u001b[39;00m \u001b[38;5;28;01melse\u001b[39;00m dtype\n\u001b[1;32m--> 929\u001b[0m     array \u001b[38;5;241m=\u001b[39m array\u001b[38;5;241m.\u001b[39mastype(new_dtype)\n\u001b[0;32m    930\u001b[0m     \u001b[38;5;66;03m# Since we converted here, we do not need to convert again later\u001b[39;00m\n\u001b[0;32m    931\u001b[0m     dtype \u001b[38;5;241m=\u001b[39m \u001b[38;5;28;01mNone\u001b[39;00m\n",
      "File \u001b[1;32m~\\anaconda3\\Lib\\site-packages\\pandas\\core\\generic.py:6643\u001b[0m, in \u001b[0;36mNDFrame.astype\u001b[1;34m(self, dtype, copy, errors)\u001b[0m\n\u001b[0;32m   6637\u001b[0m     results \u001b[38;5;241m=\u001b[39m [\n\u001b[0;32m   6638\u001b[0m         ser\u001b[38;5;241m.\u001b[39mastype(dtype, copy\u001b[38;5;241m=\u001b[39mcopy, errors\u001b[38;5;241m=\u001b[39merrors) \u001b[38;5;28;01mfor\u001b[39;00m _, ser \u001b[38;5;129;01min\u001b[39;00m \u001b[38;5;28mself\u001b[39m\u001b[38;5;241m.\u001b[39mitems()\n\u001b[0;32m   6639\u001b[0m     ]\n\u001b[0;32m   6641\u001b[0m \u001b[38;5;28;01melse\u001b[39;00m:\n\u001b[0;32m   6642\u001b[0m     \u001b[38;5;66;03m# else, only a single dtype is given\u001b[39;00m\n\u001b[1;32m-> 6643\u001b[0m     new_data \u001b[38;5;241m=\u001b[39m \u001b[38;5;28mself\u001b[39m\u001b[38;5;241m.\u001b[39m_mgr\u001b[38;5;241m.\u001b[39mastype(dtype\u001b[38;5;241m=\u001b[39mdtype, copy\u001b[38;5;241m=\u001b[39mcopy, errors\u001b[38;5;241m=\u001b[39merrors)\n\u001b[0;32m   6644\u001b[0m     res \u001b[38;5;241m=\u001b[39m \u001b[38;5;28mself\u001b[39m\u001b[38;5;241m.\u001b[39m_constructor_from_mgr(new_data, axes\u001b[38;5;241m=\u001b[39mnew_data\u001b[38;5;241m.\u001b[39maxes)\n\u001b[0;32m   6645\u001b[0m     \u001b[38;5;28;01mreturn\u001b[39;00m res\u001b[38;5;241m.\u001b[39m__finalize__(\u001b[38;5;28mself\u001b[39m, method\u001b[38;5;241m=\u001b[39m\u001b[38;5;124m\"\u001b[39m\u001b[38;5;124mastype\u001b[39m\u001b[38;5;124m\"\u001b[39m)\n",
      "File \u001b[1;32m~\\anaconda3\\Lib\\site-packages\\pandas\\core\\internals\\managers.py:430\u001b[0m, in \u001b[0;36mBaseBlockManager.astype\u001b[1;34m(self, dtype, copy, errors)\u001b[0m\n\u001b[0;32m    427\u001b[0m \u001b[38;5;28;01melif\u001b[39;00m using_copy_on_write():\n\u001b[0;32m    428\u001b[0m     copy \u001b[38;5;241m=\u001b[39m \u001b[38;5;28;01mFalse\u001b[39;00m\n\u001b[1;32m--> 430\u001b[0m \u001b[38;5;28;01mreturn\u001b[39;00m \u001b[38;5;28mself\u001b[39m\u001b[38;5;241m.\u001b[39mapply(\n\u001b[0;32m    431\u001b[0m     \u001b[38;5;124m\"\u001b[39m\u001b[38;5;124mastype\u001b[39m\u001b[38;5;124m\"\u001b[39m,\n\u001b[0;32m    432\u001b[0m     dtype\u001b[38;5;241m=\u001b[39mdtype,\n\u001b[0;32m    433\u001b[0m     copy\u001b[38;5;241m=\u001b[39mcopy,\n\u001b[0;32m    434\u001b[0m     errors\u001b[38;5;241m=\u001b[39merrors,\n\u001b[0;32m    435\u001b[0m     using_cow\u001b[38;5;241m=\u001b[39musing_copy_on_write(),\n\u001b[0;32m    436\u001b[0m )\n",
      "File \u001b[1;32m~\\anaconda3\\Lib\\site-packages\\pandas\\core\\internals\\managers.py:363\u001b[0m, in \u001b[0;36mBaseBlockManager.apply\u001b[1;34m(self, f, align_keys, **kwargs)\u001b[0m\n\u001b[0;32m    361\u001b[0m         applied \u001b[38;5;241m=\u001b[39m b\u001b[38;5;241m.\u001b[39mapply(f, \u001b[38;5;241m*\u001b[39m\u001b[38;5;241m*\u001b[39mkwargs)\n\u001b[0;32m    362\u001b[0m     \u001b[38;5;28;01melse\u001b[39;00m:\n\u001b[1;32m--> 363\u001b[0m         applied \u001b[38;5;241m=\u001b[39m \u001b[38;5;28mgetattr\u001b[39m(b, f)(\u001b[38;5;241m*\u001b[39m\u001b[38;5;241m*\u001b[39mkwargs)\n\u001b[0;32m    364\u001b[0m     result_blocks \u001b[38;5;241m=\u001b[39m extend_blocks(applied, result_blocks)\n\u001b[0;32m    366\u001b[0m out \u001b[38;5;241m=\u001b[39m \u001b[38;5;28mtype\u001b[39m(\u001b[38;5;28mself\u001b[39m)\u001b[38;5;241m.\u001b[39mfrom_blocks(result_blocks, \u001b[38;5;28mself\u001b[39m\u001b[38;5;241m.\u001b[39maxes)\n",
      "File \u001b[1;32m~\\anaconda3\\Lib\\site-packages\\pandas\\core\\internals\\blocks.py:758\u001b[0m, in \u001b[0;36mBlock.astype\u001b[1;34m(self, dtype, copy, errors, using_cow, squeeze)\u001b[0m\n\u001b[0;32m    755\u001b[0m         \u001b[38;5;28;01mraise\u001b[39;00m \u001b[38;5;167;01mValueError\u001b[39;00m(\u001b[38;5;124m\"\u001b[39m\u001b[38;5;124mCan not squeeze with more than one column.\u001b[39m\u001b[38;5;124m\"\u001b[39m)\n\u001b[0;32m    756\u001b[0m     values \u001b[38;5;241m=\u001b[39m values[\u001b[38;5;241m0\u001b[39m, :]  \u001b[38;5;66;03m# type: ignore[call-overload]\u001b[39;00m\n\u001b[1;32m--> 758\u001b[0m new_values \u001b[38;5;241m=\u001b[39m astype_array_safe(values, dtype, copy\u001b[38;5;241m=\u001b[39mcopy, errors\u001b[38;5;241m=\u001b[39merrors)\n\u001b[0;32m    760\u001b[0m new_values \u001b[38;5;241m=\u001b[39m maybe_coerce_values(new_values)\n\u001b[0;32m    762\u001b[0m refs \u001b[38;5;241m=\u001b[39m \u001b[38;5;28;01mNone\u001b[39;00m\n",
      "File \u001b[1;32m~\\anaconda3\\Lib\\site-packages\\pandas\\core\\dtypes\\astype.py:237\u001b[0m, in \u001b[0;36mastype_array_safe\u001b[1;34m(values, dtype, copy, errors)\u001b[0m\n\u001b[0;32m    234\u001b[0m     dtype \u001b[38;5;241m=\u001b[39m dtype\u001b[38;5;241m.\u001b[39mnumpy_dtype\n\u001b[0;32m    236\u001b[0m \u001b[38;5;28;01mtry\u001b[39;00m:\n\u001b[1;32m--> 237\u001b[0m     new_values \u001b[38;5;241m=\u001b[39m astype_array(values, dtype, copy\u001b[38;5;241m=\u001b[39mcopy)\n\u001b[0;32m    238\u001b[0m \u001b[38;5;28;01mexcept\u001b[39;00m (\u001b[38;5;167;01mValueError\u001b[39;00m, \u001b[38;5;167;01mTypeError\u001b[39;00m):\n\u001b[0;32m    239\u001b[0m     \u001b[38;5;66;03m# e.g. _astype_nansafe can fail on object-dtype of strings\u001b[39;00m\n\u001b[0;32m    240\u001b[0m     \u001b[38;5;66;03m#  trying to convert to float\u001b[39;00m\n\u001b[0;32m    241\u001b[0m     \u001b[38;5;28;01mif\u001b[39;00m errors \u001b[38;5;241m==\u001b[39m \u001b[38;5;124m\"\u001b[39m\u001b[38;5;124mignore\u001b[39m\u001b[38;5;124m\"\u001b[39m:\n",
      "File \u001b[1;32m~\\anaconda3\\Lib\\site-packages\\pandas\\core\\dtypes\\astype.py:182\u001b[0m, in \u001b[0;36mastype_array\u001b[1;34m(values, dtype, copy)\u001b[0m\n\u001b[0;32m    179\u001b[0m     values \u001b[38;5;241m=\u001b[39m values\u001b[38;5;241m.\u001b[39mastype(dtype, copy\u001b[38;5;241m=\u001b[39mcopy)\n\u001b[0;32m    181\u001b[0m \u001b[38;5;28;01melse\u001b[39;00m:\n\u001b[1;32m--> 182\u001b[0m     values \u001b[38;5;241m=\u001b[39m _astype_nansafe(values, dtype, copy\u001b[38;5;241m=\u001b[39mcopy)\n\u001b[0;32m    184\u001b[0m \u001b[38;5;66;03m# in pandas we don't store numpy str dtypes, so convert to object\u001b[39;00m\n\u001b[0;32m    185\u001b[0m \u001b[38;5;28;01mif\u001b[39;00m \u001b[38;5;28misinstance\u001b[39m(dtype, np\u001b[38;5;241m.\u001b[39mdtype) \u001b[38;5;129;01mand\u001b[39;00m \u001b[38;5;28missubclass\u001b[39m(values\u001b[38;5;241m.\u001b[39mdtype\u001b[38;5;241m.\u001b[39mtype, \u001b[38;5;28mstr\u001b[39m):\n",
      "File \u001b[1;32m~\\anaconda3\\Lib\\site-packages\\pandas\\core\\dtypes\\astype.py:133\u001b[0m, in \u001b[0;36m_astype_nansafe\u001b[1;34m(arr, dtype, copy, skipna)\u001b[0m\n\u001b[0;32m    129\u001b[0m     \u001b[38;5;28;01mraise\u001b[39;00m \u001b[38;5;167;01mValueError\u001b[39;00m(msg)\n\u001b[0;32m    131\u001b[0m \u001b[38;5;28;01mif\u001b[39;00m copy \u001b[38;5;129;01mor\u001b[39;00m arr\u001b[38;5;241m.\u001b[39mdtype \u001b[38;5;241m==\u001b[39m \u001b[38;5;28mobject\u001b[39m \u001b[38;5;129;01mor\u001b[39;00m dtype \u001b[38;5;241m==\u001b[39m \u001b[38;5;28mobject\u001b[39m:\n\u001b[0;32m    132\u001b[0m     \u001b[38;5;66;03m# Explicit copy, or required since NumPy can't view from / to object.\u001b[39;00m\n\u001b[1;32m--> 133\u001b[0m     \u001b[38;5;28;01mreturn\u001b[39;00m arr\u001b[38;5;241m.\u001b[39mastype(dtype, copy\u001b[38;5;241m=\u001b[39m\u001b[38;5;28;01mTrue\u001b[39;00m)\n\u001b[0;32m    135\u001b[0m \u001b[38;5;28;01mreturn\u001b[39;00m arr\u001b[38;5;241m.\u001b[39mastype(dtype, copy\u001b[38;5;241m=\u001b[39mcopy)\n",
      "\u001b[1;31mValueError\u001b[0m: could not convert string to float: 'SW/PP 751'"
     ]
    }
   ],
   "source": [
    "\n",
    "model = LogReg(solver = \"liblinear\")\n",
    "model.fit(X_train, y_train)\n",
    "\n",
    "prediccion=model.predict(X_test)"
   ]
  },
  {
   "cell_type": "code",
   "execution_count": 857,
   "id": "55517759-b9ad-4c70-97fd-996843b375a8",
   "metadata": {},
   "outputs": [
    {
     "name": "stdout",
     "output_type": "stream",
     "text": [
      "667    0\n",
      "654    0\n",
      "121    0\n",
      "717    1\n",
      "67     0\n",
      "      ..\n",
      "101    0\n",
      "843    0\n",
      "478    0\n",
      "289    1\n",
      "680    0\n",
      "Name: Sobrevivió, Length: 74, dtype: int64\n"
     ]
    }
   ],
   "source": [
    "print(y_test)"
   ]
  },
  {
   "cell_type": "code",
   "execution_count": 824,
   "id": "8a37dfc4-4436-4c5a-8c49-1d090cfa085c",
   "metadata": {},
   "outputs": [
    {
     "ename": "NameError",
     "evalue": "name 'prediccion' is not defined",
     "output_type": "error",
     "traceback": [
      "\u001b[1;31m---------------------------------------------------------------------------\u001b[0m",
      "\u001b[1;31mNameError\u001b[0m                                 Traceback (most recent call last)",
      "Cell \u001b[1;32mIn[824], line 1\u001b[0m\n\u001b[1;32m----> 1\u001b[0m \u001b[38;5;28mprint\u001b[39m(prediccion)\n",
      "\u001b[1;31mNameError\u001b[0m: name 'prediccion' is not defined"
     ]
    }
   ],
   "source": [
    "print(prediccion)"
   ]
  },
  {
   "cell_type": "markdown",
   "id": "6fdb5dda-bc36-487d-9527-8be26ddeda59",
   "metadata": {},
   "source": [
    "## 6. Evaluar el desempeño del modelo"
   ]
  },
  {
   "cell_type": "code",
   "execution_count": 870,
   "id": "5ad882a1-8acd-42d2-be3a-abb1e362de4e",
   "metadata": {},
   "outputs": [
    {
     "ename": "ValueError",
     "evalue": "could not convert string to float: 'A4. 54510'",
     "output_type": "error",
     "traceback": [
      "\u001b[1;31m---------------------------------------------------------------------------\u001b[0m",
      "\u001b[1;31mValueError\u001b[0m                                Traceback (most recent call last)",
      "Cell \u001b[1;32mIn[870], line 1\u001b[0m\n\u001b[1;32m----> 1\u001b[0m y_pred \u001b[38;5;241m=\u001b[39m model\u001b[38;5;241m.\u001b[39mpredict(X_test)\n",
      "File \u001b[1;32m~\\anaconda3\\Lib\\site-packages\\sklearn\\linear_model\\_base.py:382\u001b[0m, in \u001b[0;36mLinearClassifierMixin.predict\u001b[1;34m(self, X)\u001b[0m\n\u001b[0;32m    368\u001b[0m \u001b[38;5;250m\u001b[39m\u001b[38;5;124;03m\"\"\"\u001b[39;00m\n\u001b[0;32m    369\u001b[0m \u001b[38;5;124;03mPredict class labels for samples in X.\u001b[39;00m\n\u001b[0;32m    370\u001b[0m \n\u001b[1;32m   (...)\u001b[0m\n\u001b[0;32m    379\u001b[0m \u001b[38;5;124;03m    Vector containing the class labels for each sample.\u001b[39;00m\n\u001b[0;32m    380\u001b[0m \u001b[38;5;124;03m\"\"\"\u001b[39;00m\n\u001b[0;32m    381\u001b[0m xp, _ \u001b[38;5;241m=\u001b[39m get_namespace(X)\n\u001b[1;32m--> 382\u001b[0m scores \u001b[38;5;241m=\u001b[39m \u001b[38;5;28mself\u001b[39m\u001b[38;5;241m.\u001b[39mdecision_function(X)\n\u001b[0;32m    383\u001b[0m \u001b[38;5;28;01mif\u001b[39;00m \u001b[38;5;28mlen\u001b[39m(scores\u001b[38;5;241m.\u001b[39mshape) \u001b[38;5;241m==\u001b[39m \u001b[38;5;241m1\u001b[39m:\n\u001b[0;32m    384\u001b[0m     indices \u001b[38;5;241m=\u001b[39m xp\u001b[38;5;241m.\u001b[39mastype(scores \u001b[38;5;241m>\u001b[39m \u001b[38;5;241m0\u001b[39m, indexing_dtype(xp))\n",
      "File \u001b[1;32m~\\anaconda3\\Lib\\site-packages\\sklearn\\linear_model\\_base.py:363\u001b[0m, in \u001b[0;36mLinearClassifierMixin.decision_function\u001b[1;34m(self, X)\u001b[0m\n\u001b[0;32m    360\u001b[0m check_is_fitted(\u001b[38;5;28mself\u001b[39m)\n\u001b[0;32m    361\u001b[0m xp, _ \u001b[38;5;241m=\u001b[39m get_namespace(X)\n\u001b[1;32m--> 363\u001b[0m X \u001b[38;5;241m=\u001b[39m \u001b[38;5;28mself\u001b[39m\u001b[38;5;241m.\u001b[39m_validate_data(X, accept_sparse\u001b[38;5;241m=\u001b[39m\u001b[38;5;124m\"\u001b[39m\u001b[38;5;124mcsr\u001b[39m\u001b[38;5;124m\"\u001b[39m, reset\u001b[38;5;241m=\u001b[39m\u001b[38;5;28;01mFalse\u001b[39;00m)\n\u001b[0;32m    364\u001b[0m scores \u001b[38;5;241m=\u001b[39m safe_sparse_dot(X, \u001b[38;5;28mself\u001b[39m\u001b[38;5;241m.\u001b[39mcoef_\u001b[38;5;241m.\u001b[39mT, dense_output\u001b[38;5;241m=\u001b[39m\u001b[38;5;28;01mTrue\u001b[39;00m) \u001b[38;5;241m+\u001b[39m \u001b[38;5;28mself\u001b[39m\u001b[38;5;241m.\u001b[39mintercept_\n\u001b[0;32m    365\u001b[0m \u001b[38;5;28;01mreturn\u001b[39;00m xp\u001b[38;5;241m.\u001b[39mreshape(scores, (\u001b[38;5;241m-\u001b[39m\u001b[38;5;241m1\u001b[39m,)) \u001b[38;5;28;01mif\u001b[39;00m scores\u001b[38;5;241m.\u001b[39mshape[\u001b[38;5;241m1\u001b[39m] \u001b[38;5;241m==\u001b[39m \u001b[38;5;241m1\u001b[39m \u001b[38;5;28;01melse\u001b[39;00m scores\n",
      "File \u001b[1;32m~\\anaconda3\\Lib\\site-packages\\sklearn\\base.py:633\u001b[0m, in \u001b[0;36mBaseEstimator._validate_data\u001b[1;34m(self, X, y, reset, validate_separately, cast_to_ndarray, **check_params)\u001b[0m\n\u001b[0;32m    631\u001b[0m         out \u001b[38;5;241m=\u001b[39m X, y\n\u001b[0;32m    632\u001b[0m \u001b[38;5;28;01melif\u001b[39;00m \u001b[38;5;129;01mnot\u001b[39;00m no_val_X \u001b[38;5;129;01mand\u001b[39;00m no_val_y:\n\u001b[1;32m--> 633\u001b[0m     out \u001b[38;5;241m=\u001b[39m check_array(X, input_name\u001b[38;5;241m=\u001b[39m\u001b[38;5;124m\"\u001b[39m\u001b[38;5;124mX\u001b[39m\u001b[38;5;124m\"\u001b[39m, \u001b[38;5;241m*\u001b[39m\u001b[38;5;241m*\u001b[39mcheck_params)\n\u001b[0;32m    634\u001b[0m \u001b[38;5;28;01melif\u001b[39;00m no_val_X \u001b[38;5;129;01mand\u001b[39;00m \u001b[38;5;129;01mnot\u001b[39;00m no_val_y:\n\u001b[0;32m    635\u001b[0m     out \u001b[38;5;241m=\u001b[39m _check_y(y, \u001b[38;5;241m*\u001b[39m\u001b[38;5;241m*\u001b[39mcheck_params)\n",
      "File \u001b[1;32m~\\anaconda3\\Lib\\site-packages\\sklearn\\utils\\validation.py:929\u001b[0m, in \u001b[0;36mcheck_array\u001b[1;34m(array, accept_sparse, accept_large_sparse, dtype, order, copy, force_writeable, force_all_finite, ensure_2d, allow_nd, ensure_min_samples, ensure_min_features, estimator, input_name)\u001b[0m\n\u001b[0;32m    924\u001b[0m \u001b[38;5;28;01mif\u001b[39;00m pandas_requires_conversion:\n\u001b[0;32m    925\u001b[0m     \u001b[38;5;66;03m# pandas dataframe requires conversion earlier to handle extension dtypes with\u001b[39;00m\n\u001b[0;32m    926\u001b[0m     \u001b[38;5;66;03m# nans\u001b[39;00m\n\u001b[0;32m    927\u001b[0m     \u001b[38;5;66;03m# Use the original dtype for conversion if dtype is None\u001b[39;00m\n\u001b[0;32m    928\u001b[0m     new_dtype \u001b[38;5;241m=\u001b[39m dtype_orig \u001b[38;5;28;01mif\u001b[39;00m dtype \u001b[38;5;129;01mis\u001b[39;00m \u001b[38;5;28;01mNone\u001b[39;00m \u001b[38;5;28;01melse\u001b[39;00m dtype\n\u001b[1;32m--> 929\u001b[0m     array \u001b[38;5;241m=\u001b[39m array\u001b[38;5;241m.\u001b[39mastype(new_dtype)\n\u001b[0;32m    930\u001b[0m     \u001b[38;5;66;03m# Since we converted here, we do not need to convert again later\u001b[39;00m\n\u001b[0;32m    931\u001b[0m     dtype \u001b[38;5;241m=\u001b[39m \u001b[38;5;28;01mNone\u001b[39;00m\n",
      "File \u001b[1;32m~\\anaconda3\\Lib\\site-packages\\pandas\\core\\generic.py:6643\u001b[0m, in \u001b[0;36mNDFrame.astype\u001b[1;34m(self, dtype, copy, errors)\u001b[0m\n\u001b[0;32m   6637\u001b[0m     results \u001b[38;5;241m=\u001b[39m [\n\u001b[0;32m   6638\u001b[0m         ser\u001b[38;5;241m.\u001b[39mastype(dtype, copy\u001b[38;5;241m=\u001b[39mcopy, errors\u001b[38;5;241m=\u001b[39merrors) \u001b[38;5;28;01mfor\u001b[39;00m _, ser \u001b[38;5;129;01min\u001b[39;00m \u001b[38;5;28mself\u001b[39m\u001b[38;5;241m.\u001b[39mitems()\n\u001b[0;32m   6639\u001b[0m     ]\n\u001b[0;32m   6641\u001b[0m \u001b[38;5;28;01melse\u001b[39;00m:\n\u001b[0;32m   6642\u001b[0m     \u001b[38;5;66;03m# else, only a single dtype is given\u001b[39;00m\n\u001b[1;32m-> 6643\u001b[0m     new_data \u001b[38;5;241m=\u001b[39m \u001b[38;5;28mself\u001b[39m\u001b[38;5;241m.\u001b[39m_mgr\u001b[38;5;241m.\u001b[39mastype(dtype\u001b[38;5;241m=\u001b[39mdtype, copy\u001b[38;5;241m=\u001b[39mcopy, errors\u001b[38;5;241m=\u001b[39merrors)\n\u001b[0;32m   6644\u001b[0m     res \u001b[38;5;241m=\u001b[39m \u001b[38;5;28mself\u001b[39m\u001b[38;5;241m.\u001b[39m_constructor_from_mgr(new_data, axes\u001b[38;5;241m=\u001b[39mnew_data\u001b[38;5;241m.\u001b[39maxes)\n\u001b[0;32m   6645\u001b[0m     \u001b[38;5;28;01mreturn\u001b[39;00m res\u001b[38;5;241m.\u001b[39m__finalize__(\u001b[38;5;28mself\u001b[39m, method\u001b[38;5;241m=\u001b[39m\u001b[38;5;124m\"\u001b[39m\u001b[38;5;124mastype\u001b[39m\u001b[38;5;124m\"\u001b[39m)\n",
      "File \u001b[1;32m~\\anaconda3\\Lib\\site-packages\\pandas\\core\\internals\\managers.py:430\u001b[0m, in \u001b[0;36mBaseBlockManager.astype\u001b[1;34m(self, dtype, copy, errors)\u001b[0m\n\u001b[0;32m    427\u001b[0m \u001b[38;5;28;01melif\u001b[39;00m using_copy_on_write():\n\u001b[0;32m    428\u001b[0m     copy \u001b[38;5;241m=\u001b[39m \u001b[38;5;28;01mFalse\u001b[39;00m\n\u001b[1;32m--> 430\u001b[0m \u001b[38;5;28;01mreturn\u001b[39;00m \u001b[38;5;28mself\u001b[39m\u001b[38;5;241m.\u001b[39mapply(\n\u001b[0;32m    431\u001b[0m     \u001b[38;5;124m\"\u001b[39m\u001b[38;5;124mastype\u001b[39m\u001b[38;5;124m\"\u001b[39m,\n\u001b[0;32m    432\u001b[0m     dtype\u001b[38;5;241m=\u001b[39mdtype,\n\u001b[0;32m    433\u001b[0m     copy\u001b[38;5;241m=\u001b[39mcopy,\n\u001b[0;32m    434\u001b[0m     errors\u001b[38;5;241m=\u001b[39merrors,\n\u001b[0;32m    435\u001b[0m     using_cow\u001b[38;5;241m=\u001b[39musing_copy_on_write(),\n\u001b[0;32m    436\u001b[0m )\n",
      "File \u001b[1;32m~\\anaconda3\\Lib\\site-packages\\pandas\\core\\internals\\managers.py:363\u001b[0m, in \u001b[0;36mBaseBlockManager.apply\u001b[1;34m(self, f, align_keys, **kwargs)\u001b[0m\n\u001b[0;32m    361\u001b[0m         applied \u001b[38;5;241m=\u001b[39m b\u001b[38;5;241m.\u001b[39mapply(f, \u001b[38;5;241m*\u001b[39m\u001b[38;5;241m*\u001b[39mkwargs)\n\u001b[0;32m    362\u001b[0m     \u001b[38;5;28;01melse\u001b[39;00m:\n\u001b[1;32m--> 363\u001b[0m         applied \u001b[38;5;241m=\u001b[39m \u001b[38;5;28mgetattr\u001b[39m(b, f)(\u001b[38;5;241m*\u001b[39m\u001b[38;5;241m*\u001b[39mkwargs)\n\u001b[0;32m    364\u001b[0m     result_blocks \u001b[38;5;241m=\u001b[39m extend_blocks(applied, result_blocks)\n\u001b[0;32m    366\u001b[0m out \u001b[38;5;241m=\u001b[39m \u001b[38;5;28mtype\u001b[39m(\u001b[38;5;28mself\u001b[39m)\u001b[38;5;241m.\u001b[39mfrom_blocks(result_blocks, \u001b[38;5;28mself\u001b[39m\u001b[38;5;241m.\u001b[39maxes)\n",
      "File \u001b[1;32m~\\anaconda3\\Lib\\site-packages\\pandas\\core\\internals\\blocks.py:758\u001b[0m, in \u001b[0;36mBlock.astype\u001b[1;34m(self, dtype, copy, errors, using_cow, squeeze)\u001b[0m\n\u001b[0;32m    755\u001b[0m         \u001b[38;5;28;01mraise\u001b[39;00m \u001b[38;5;167;01mValueError\u001b[39;00m(\u001b[38;5;124m\"\u001b[39m\u001b[38;5;124mCan not squeeze with more than one column.\u001b[39m\u001b[38;5;124m\"\u001b[39m)\n\u001b[0;32m    756\u001b[0m     values \u001b[38;5;241m=\u001b[39m values[\u001b[38;5;241m0\u001b[39m, :]  \u001b[38;5;66;03m# type: ignore[call-overload]\u001b[39;00m\n\u001b[1;32m--> 758\u001b[0m new_values \u001b[38;5;241m=\u001b[39m astype_array_safe(values, dtype, copy\u001b[38;5;241m=\u001b[39mcopy, errors\u001b[38;5;241m=\u001b[39merrors)\n\u001b[0;32m    760\u001b[0m new_values \u001b[38;5;241m=\u001b[39m maybe_coerce_values(new_values)\n\u001b[0;32m    762\u001b[0m refs \u001b[38;5;241m=\u001b[39m \u001b[38;5;28;01mNone\u001b[39;00m\n",
      "File \u001b[1;32m~\\anaconda3\\Lib\\site-packages\\pandas\\core\\dtypes\\astype.py:237\u001b[0m, in \u001b[0;36mastype_array_safe\u001b[1;34m(values, dtype, copy, errors)\u001b[0m\n\u001b[0;32m    234\u001b[0m     dtype \u001b[38;5;241m=\u001b[39m dtype\u001b[38;5;241m.\u001b[39mnumpy_dtype\n\u001b[0;32m    236\u001b[0m \u001b[38;5;28;01mtry\u001b[39;00m:\n\u001b[1;32m--> 237\u001b[0m     new_values \u001b[38;5;241m=\u001b[39m astype_array(values, dtype, copy\u001b[38;5;241m=\u001b[39mcopy)\n\u001b[0;32m    238\u001b[0m \u001b[38;5;28;01mexcept\u001b[39;00m (\u001b[38;5;167;01mValueError\u001b[39;00m, \u001b[38;5;167;01mTypeError\u001b[39;00m):\n\u001b[0;32m    239\u001b[0m     \u001b[38;5;66;03m# e.g. _astype_nansafe can fail on object-dtype of strings\u001b[39;00m\n\u001b[0;32m    240\u001b[0m     \u001b[38;5;66;03m#  trying to convert to float\u001b[39;00m\n\u001b[0;32m    241\u001b[0m     \u001b[38;5;28;01mif\u001b[39;00m errors \u001b[38;5;241m==\u001b[39m \u001b[38;5;124m\"\u001b[39m\u001b[38;5;124mignore\u001b[39m\u001b[38;5;124m\"\u001b[39m:\n",
      "File \u001b[1;32m~\\anaconda3\\Lib\\site-packages\\pandas\\core\\dtypes\\astype.py:182\u001b[0m, in \u001b[0;36mastype_array\u001b[1;34m(values, dtype, copy)\u001b[0m\n\u001b[0;32m    179\u001b[0m     values \u001b[38;5;241m=\u001b[39m values\u001b[38;5;241m.\u001b[39mastype(dtype, copy\u001b[38;5;241m=\u001b[39mcopy)\n\u001b[0;32m    181\u001b[0m \u001b[38;5;28;01melse\u001b[39;00m:\n\u001b[1;32m--> 182\u001b[0m     values \u001b[38;5;241m=\u001b[39m _astype_nansafe(values, dtype, copy\u001b[38;5;241m=\u001b[39mcopy)\n\u001b[0;32m    184\u001b[0m \u001b[38;5;66;03m# in pandas we don't store numpy str dtypes, so convert to object\u001b[39;00m\n\u001b[0;32m    185\u001b[0m \u001b[38;5;28;01mif\u001b[39;00m \u001b[38;5;28misinstance\u001b[39m(dtype, np\u001b[38;5;241m.\u001b[39mdtype) \u001b[38;5;129;01mand\u001b[39;00m \u001b[38;5;28missubclass\u001b[39m(values\u001b[38;5;241m.\u001b[39mdtype\u001b[38;5;241m.\u001b[39mtype, \u001b[38;5;28mstr\u001b[39m):\n",
      "File \u001b[1;32m~\\anaconda3\\Lib\\site-packages\\pandas\\core\\dtypes\\astype.py:133\u001b[0m, in \u001b[0;36m_astype_nansafe\u001b[1;34m(arr, dtype, copy, skipna)\u001b[0m\n\u001b[0;32m    129\u001b[0m     \u001b[38;5;28;01mraise\u001b[39;00m \u001b[38;5;167;01mValueError\u001b[39;00m(msg)\n\u001b[0;32m    131\u001b[0m \u001b[38;5;28;01mif\u001b[39;00m copy \u001b[38;5;129;01mor\u001b[39;00m arr\u001b[38;5;241m.\u001b[39mdtype \u001b[38;5;241m==\u001b[39m \u001b[38;5;28mobject\u001b[39m \u001b[38;5;129;01mor\u001b[39;00m dtype \u001b[38;5;241m==\u001b[39m \u001b[38;5;28mobject\u001b[39m:\n\u001b[0;32m    132\u001b[0m     \u001b[38;5;66;03m# Explicit copy, or required since NumPy can't view from / to object.\u001b[39;00m\n\u001b[1;32m--> 133\u001b[0m     \u001b[38;5;28;01mreturn\u001b[39;00m arr\u001b[38;5;241m.\u001b[39mastype(dtype, copy\u001b[38;5;241m=\u001b[39m\u001b[38;5;28;01mTrue\u001b[39;00m)\n\u001b[0;32m    135\u001b[0m \u001b[38;5;28;01mreturn\u001b[39;00m arr\u001b[38;5;241m.\u001b[39mastype(dtype, copy\u001b[38;5;241m=\u001b[39mcopy)\n",
      "\u001b[1;31mValueError\u001b[0m: could not convert string to float: 'A4. 54510'"
     ]
    }
   ],
   "source": [
    "y_pred = model.predict(X_test)"
   ]
  },
  {
   "cell_type": "markdown",
   "id": "083965f8-916d-4bf9-a40d-f9aa3a9b1e29",
   "metadata": {},
   "source": [
    "## 6. Evaluar el desempeño del modelo"
   ]
  },
  {
   "cell_type": "code",
   "execution_count": 866,
   "id": "66bee933-eead-434c-a1fb-2c3612d94b54",
   "metadata": {},
   "outputs": [
    {
     "ename": "NameError",
     "evalue": "name 'y_pred' is not defined",
     "output_type": "error",
     "traceback": [
      "\u001b[1;31m---------------------------------------------------------------------------\u001b[0m",
      "\u001b[1;31mNameError\u001b[0m                                 Traceback (most recent call last)",
      "Cell \u001b[1;32mIn[866], line 2\u001b[0m\n\u001b[0;32m      1\u001b[0m \u001b[38;5;28;01mfrom\u001b[39;00m \u001b[38;5;21;01msklearn\u001b[39;00m\u001b[38;5;21;01m.\u001b[39;00m\u001b[38;5;21;01mmetrics\u001b[39;00m \u001b[38;5;28;01mimport\u001b[39;00m accuracy_score, precision_score, recall_score, f1_score, classification_report\n\u001b[1;32m----> 2\u001b[0m \u001b[38;5;28mprint\u001b[39m(\u001b[38;5;124m\"\u001b[39m\u001b[38;5;124mAccuracy:\u001b[39m\u001b[38;5;124m\"\u001b[39m, accuracy_score(y_test, y_pred))\n\u001b[0;32m      3\u001b[0m \u001b[38;5;28mprint\u001b[39m(\u001b[38;5;124m\"\u001b[39m\u001b[38;5;124mPrecision:\u001b[39m\u001b[38;5;124m\"\u001b[39m, precision_score(y_test, y_pred))\n\u001b[0;32m      4\u001b[0m \u001b[38;5;28mprint\u001b[39m(\u001b[38;5;124m\"\u001b[39m\u001b[38;5;124mRecall:\u001b[39m\u001b[38;5;124m\"\u001b[39m, recall_score(y_test, y_pred))\n",
      "\u001b[1;31mNameError\u001b[0m: name 'y_pred' is not defined"
     ]
    }
   ],
   "source": [
    "from sklearn.metrics import accuracy_score, precision_score, recall_score, f1_score, classification_report\n",
    "print(\"Accuracy:\", accuracy_score(y_test, y_pred))\n",
    "print(\"Precision:\", precision_score(y_test, y_pred))\n",
    "print(\"Recall:\", recall_score(y_test, y_pred))\n",
    "print(\"F1-Score:\", f1_score(y_test, y_pred))\n",
    "print(classification_report(y_test, y_pred))"
   ]
  },
  {
   "cell_type": "markdown",
   "id": "39a57fde-dda0-4e77-b63a-a52ec567edd5",
   "metadata": {},
   "source": [
    "## 7. Graficar los resultados"
   ]
  },
  {
   "cell_type": "code",
   "execution_count": 873,
   "id": "fd0e1ccc-9552-467f-867b-43743efa15c8",
   "metadata": {},
   "outputs": [
    {
     "ename": "NameError",
     "evalue": "name 'y_pred' is not defined",
     "output_type": "error",
     "traceback": [
      "\u001b[1;31m---------------------------------------------------------------------------\u001b[0m",
      "\u001b[1;31mNameError\u001b[0m                                 Traceback (most recent call last)",
      "Cell \u001b[1;32mIn[873], line 2\u001b[0m\n\u001b[0;32m      1\u001b[0m \u001b[38;5;28;01mfrom\u001b[39;00m \u001b[38;5;21;01msklearn\u001b[39;00m\u001b[38;5;21;01m.\u001b[39;00m\u001b[38;5;21;01mmetrics\u001b[39;00m \u001b[38;5;28;01mimport\u001b[39;00m ConfusionMatrixDisplay\n\u001b[1;32m----> 2\u001b[0m ConfusionMatrixDisplay\u001b[38;5;241m.\u001b[39mfrom_predictions(y_test, y_pred)\n",
      "\u001b[1;31mNameError\u001b[0m: name 'y_pred' is not defined"
     ]
    }
   ],
   "source": [
    "from sklearn.metrics import ConfusionMatrixDisplay\n",
    "ConfusionMatrixDisplay.from_predictions(y_test, y_pred)"
   ]
  },
  {
   "cell_type": "code",
   "execution_count": 875,
   "id": "e8281c00-bd70-4546-8b0b-ec5ae25c70d7",
   "metadata": {},
   "outputs": [
    {
     "ename": "AttributeError",
     "evalue": "'LogisticRegression' object has no attribute 'classes_'",
     "output_type": "error",
     "traceback": [
      "\u001b[1;31m---------------------------------------------------------------------------\u001b[0m",
      "\u001b[1;31mAttributeError\u001b[0m                            Traceback (most recent call last)",
      "Cell \u001b[1;32mIn[875], line 2\u001b[0m\n\u001b[0;32m      1\u001b[0m \u001b[38;5;28;01mfrom\u001b[39;00m \u001b[38;5;21;01msklearn\u001b[39;00m\u001b[38;5;21;01m.\u001b[39;00m\u001b[38;5;21;01mmetrics\u001b[39;00m \u001b[38;5;28;01mimport\u001b[39;00m roc_curve, auc\n\u001b[1;32m----> 2\u001b[0m y_pred_proba \u001b[38;5;241m=\u001b[39m model\u001b[38;5;241m.\u001b[39mpredict_proba(X_test)[:, \u001b[38;5;241m1\u001b[39m]\n\u001b[0;32m      3\u001b[0m fpr, tpr, thresholds \u001b[38;5;241m=\u001b[39m roc_curve(y_test, y_pred_proba)\n\u001b[0;32m      4\u001b[0m roc_auc \u001b[38;5;241m=\u001b[39m auc(fpr, tpr)\n",
      "File \u001b[1;32m~\\anaconda3\\Lib\\site-packages\\sklearn\\linear_model\\_logistic.py:1426\u001b[0m, in \u001b[0;36mLogisticRegression.predict_proba\u001b[1;34m(self, X)\u001b[0m\n\u001b[0;32m   1396\u001b[0m \u001b[38;5;250m\u001b[39m\u001b[38;5;124;03m\"\"\"\u001b[39;00m\n\u001b[0;32m   1397\u001b[0m \u001b[38;5;124;03mProbability estimates.\u001b[39;00m\n\u001b[0;32m   1398\u001b[0m \n\u001b[1;32m   (...)\u001b[0m\n\u001b[0;32m   1419\u001b[0m \u001b[38;5;124;03m    where classes are ordered as they are in ``self.classes_``.\u001b[39;00m\n\u001b[0;32m   1420\u001b[0m \u001b[38;5;124;03m\"\"\"\u001b[39;00m\n\u001b[0;32m   1421\u001b[0m check_is_fitted(\u001b[38;5;28mself\u001b[39m)\n\u001b[0;32m   1423\u001b[0m ovr \u001b[38;5;241m=\u001b[39m \u001b[38;5;28mself\u001b[39m\u001b[38;5;241m.\u001b[39mmulti_class \u001b[38;5;129;01min\u001b[39;00m [\u001b[38;5;124m\"\u001b[39m\u001b[38;5;124movr\u001b[39m\u001b[38;5;124m\"\u001b[39m, \u001b[38;5;124m\"\u001b[39m\u001b[38;5;124mwarn\u001b[39m\u001b[38;5;124m\"\u001b[39m] \u001b[38;5;129;01mor\u001b[39;00m (\n\u001b[0;32m   1424\u001b[0m     \u001b[38;5;28mself\u001b[39m\u001b[38;5;241m.\u001b[39mmulti_class \u001b[38;5;129;01min\u001b[39;00m [\u001b[38;5;124m\"\u001b[39m\u001b[38;5;124mauto\u001b[39m\u001b[38;5;124m\"\u001b[39m, \u001b[38;5;124m\"\u001b[39m\u001b[38;5;124mdeprecated\u001b[39m\u001b[38;5;124m\"\u001b[39m]\n\u001b[0;32m   1425\u001b[0m     \u001b[38;5;129;01mand\u001b[39;00m (\n\u001b[1;32m-> 1426\u001b[0m         \u001b[38;5;28mself\u001b[39m\u001b[38;5;241m.\u001b[39mclasses_\u001b[38;5;241m.\u001b[39msize \u001b[38;5;241m<\u001b[39m\u001b[38;5;241m=\u001b[39m \u001b[38;5;241m2\u001b[39m\n\u001b[0;32m   1427\u001b[0m         \u001b[38;5;129;01mor\u001b[39;00m \u001b[38;5;28mself\u001b[39m\u001b[38;5;241m.\u001b[39msolver \u001b[38;5;129;01min\u001b[39;00m (\u001b[38;5;124m\"\u001b[39m\u001b[38;5;124mliblinear\u001b[39m\u001b[38;5;124m\"\u001b[39m, \u001b[38;5;124m\"\u001b[39m\u001b[38;5;124mnewton-cholesky\u001b[39m\u001b[38;5;124m\"\u001b[39m)\n\u001b[0;32m   1428\u001b[0m     )\n\u001b[0;32m   1429\u001b[0m )\n\u001b[0;32m   1430\u001b[0m \u001b[38;5;28;01mif\u001b[39;00m ovr:\n\u001b[0;32m   1431\u001b[0m     \u001b[38;5;28;01mreturn\u001b[39;00m \u001b[38;5;28msuper\u001b[39m()\u001b[38;5;241m.\u001b[39m_predict_proba_lr(X)\n",
      "\u001b[1;31mAttributeError\u001b[0m: 'LogisticRegression' object has no attribute 'classes_'"
     ]
    }
   ],
   "source": [
    "from sklearn.metrics import roc_curve, auc\n",
    "y_pred_proba = model.predict_proba(X_test)[:, 1]\n",
    "fpr, tpr, thresholds = roc_curve(y_test, y_pred_proba)\n",
    "roc_auc = auc(fpr, tpr)\n",
    "plt.plot(fpr, tpr, label=f'AUC = {roc_auc:.2f}')\n",
    "plt.legend(loc='lower right')\n",
    "plt.title(\"Curva ROC\")\n",
    "plt.xlabel(\"FPR\")\n",
    "plt.ylabel(\"TPR\")\n",
    "plt.show()"
   ]
  },
  {
   "cell_type": "code",
   "execution_count": null,
   "id": "7588b87d-2654-455b-9694-c6d988843ecf",
   "metadata": {},
   "outputs": [],
   "source": []
  }
 ],
 "metadata": {
  "kernelspec": {
   "display_name": "Python [conda env:base] *",
   "language": "python",
   "name": "conda-base-py"
  },
  "language_info": {
   "codemirror_mode": {
    "name": "ipython",
    "version": 3
   },
   "file_extension": ".py",
   "mimetype": "text/x-python",
   "name": "python",
   "nbconvert_exporter": "python",
   "pygments_lexer": "ipython3",
   "version": "3.12.7"
  }
 },
 "nbformat": 4,
 "nbformat_minor": 5
}
